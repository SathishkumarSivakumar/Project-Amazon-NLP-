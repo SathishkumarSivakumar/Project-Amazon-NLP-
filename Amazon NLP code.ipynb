{
 "cells": [
  {
   "cell_type": "markdown",
   "id": "b9947dac",
   "metadata": {
    "papermill": {
     "duration": 0.016059,
     "end_time": "2022-10-22T08:28:25.293531",
     "exception": false,
     "start_time": "2022-10-22T08:28:25.277472",
     "status": "completed"
    },
    "tags": []
   },
   "source": [
    "# NLP : field of computer science used to process the interaction btw computers and human language\n",
    "NLP is concerned with giving computers the ability to understand text and spoken words in much the same way human beings can. And with this help we can make highly informed decisions without going through tedious task to read every possible comment we can analyse what's the sentiment of that comment. \n"
   ]
  },
  {
   "cell_type": "markdown",
   "id": "a7ceb23a",
   "metadata": {
    "papermill": {
     "duration": 0.016322,
     "end_time": "2022-10-22T08:28:25.324195",
     "exception": false,
     "start_time": "2022-10-22T08:28:25.307873",
     "status": "completed"
    },
    "tags": []
   },
   "source": [
    "NLP use cases:\n",
    "* Speech recognition\n",
    "* Part of speech tagging\n",
    "* Word sense disambiguation\n",
    "* Named entity recognition\n",
    "* Sentiment analysis (in this notebook we will understand this use case)\n",
    "* Natural language generation(structured speech to text) "
   ]
  },
  {
   "cell_type": "markdown",
   "id": "d1dfa59e",
   "metadata": {
    "papermill": {
     "duration": 0.014389,
     "end_time": "2022-10-22T08:28:25.352826",
     "exception": false,
     "start_time": "2022-10-22T08:28:25.338437",
     "status": "completed"
    },
    "tags": []
   },
   "source": [
    "In this notebook, I will perform EDA on Amazon product review dataset and at the end we will do sentiment analysis using naive bayes and support vector classifier. This notebook can be used as an introductory tutorial on how to deal with textual data followed by predictions on the dataset.  \n"
   ]
  },
  {
   "cell_type": "code",
   "execution_count": 1,
   "id": "b24ebab8",
   "metadata": {
    "execution": {
     "iopub.execute_input": "2022-10-22T08:28:25.383891Z",
     "iopub.status.busy": "2022-10-22T08:28:25.383125Z",
     "iopub.status.idle": "2022-10-22T08:28:26.764863Z",
     "shell.execute_reply": "2022-10-22T08:28:26.763558Z"
    },
    "papermill": {
     "duration": 1.4011,
     "end_time": "2022-10-22T08:28:26.768285",
     "exception": false,
     "start_time": "2022-10-22T08:28:25.367185",
     "status": "completed"
    },
    "tags": []
   },
   "outputs": [],
   "source": [
    "import pandas as pd\n",
    "import numpy as np\n",
    "import matplotlib.pyplot as plt\n",
    "import seaborn as sns\n",
    "%matplotlib inline\n",
    "import math\n",
    "sns.set_style(\"darkgrid\")\n",
    "import warnings\n",
    "warnings.filterwarnings('ignore')"
   ]
  },
  {
   "cell_type": "markdown",
   "id": "b3b52bab",
   "metadata": {
    "papermill": {
     "duration": 0.014384,
     "end_time": "2022-10-22T08:28:26.797857",
     "exception": false,
     "start_time": "2022-10-22T08:28:26.783473",
     "status": "completed"
    },
    "tags": []
   },
   "source": [
    " We import warnings as this is used to remove unwaned warnings as the data set is used is of small size"
   ]
  },
  {
   "cell_type": "code",
   "execution_count": 2,
   "id": "49f64a8b",
   "metadata": {
    "execution": {
     "iopub.execute_input": "2022-10-22T08:28:26.829859Z",
     "iopub.status.busy": "2022-10-22T08:28:26.829322Z",
     "iopub.status.idle": "2022-10-22T08:28:28.115310Z",
     "shell.execute_reply": "2022-10-22T08:28:28.114082Z"
    },
    "papermill": {
     "duration": 1.306014,
     "end_time": "2022-10-22T08:28:28.118773",
     "exception": false,
     "start_time": "2022-10-22T08:28:26.812759",
     "status": "completed"
    },
    "tags": []
   },
   "outputs": [
    {
     "data": {
      "text/html": [
       "<div>\n",
       "<style scoped>\n",
       "    .dataframe tbody tr th:only-of-type {\n",
       "        vertical-align: middle;\n",
       "    }\n",
       "\n",
       "    .dataframe tbody tr th {\n",
       "        vertical-align: top;\n",
       "    }\n",
       "\n",
       "    .dataframe thead th {\n",
       "        text-align: right;\n",
       "    }\n",
       "</style>\n",
       "<table border=\"1\" class=\"dataframe\">\n",
       "  <thead>\n",
       "    <tr style=\"text-align: right;\">\n",
       "      <th></th>\n",
       "      <th>id</th>\n",
       "      <th>name</th>\n",
       "      <th>asins</th>\n",
       "      <th>brand</th>\n",
       "      <th>categories</th>\n",
       "      <th>keys</th>\n",
       "      <th>manufacturer</th>\n",
       "      <th>reviews.date</th>\n",
       "      <th>reviews.dateAdded</th>\n",
       "      <th>reviews.dateSeen</th>\n",
       "      <th>...</th>\n",
       "      <th>reviews.doRecommend</th>\n",
       "      <th>reviews.id</th>\n",
       "      <th>reviews.numHelpful</th>\n",
       "      <th>reviews.rating</th>\n",
       "      <th>reviews.sourceURLs</th>\n",
       "      <th>reviews.text</th>\n",
       "      <th>reviews.title</th>\n",
       "      <th>reviews.userCity</th>\n",
       "      <th>reviews.userProvince</th>\n",
       "      <th>reviews.username</th>\n",
       "    </tr>\n",
       "  </thead>\n",
       "  <tbody>\n",
       "    <tr>\n",
       "      <th>0</th>\n",
       "      <td>AVqkIhwDv8e3D1O-lebb</td>\n",
       "      <td>All-New Fire HD 8 Tablet, 8 HD Display, Wi-Fi,...</td>\n",
       "      <td>B01AHB9CN2</td>\n",
       "      <td>Amazon</td>\n",
       "      <td>Electronics,iPad &amp; Tablets,All Tablets,Fire Ta...</td>\n",
       "      <td>841667104676,amazon/53004484,amazon/b01ahb9cn2...</td>\n",
       "      <td>Amazon</td>\n",
       "      <td>2017-01-13T00:00:00.000Z</td>\n",
       "      <td>2017-07-03T23:33:15Z</td>\n",
       "      <td>2017-06-07T09:04:00.000Z,2017-04-30T00:45:00.000Z</td>\n",
       "      <td>...</td>\n",
       "      <td>True</td>\n",
       "      <td>NaN</td>\n",
       "      <td>0.0</td>\n",
       "      <td>5.0</td>\n",
       "      <td>http://reviews.bestbuy.com/3545/5620406/review...</td>\n",
       "      <td>This product so far has not disappointed. My c...</td>\n",
       "      <td>Kindle</td>\n",
       "      <td>NaN</td>\n",
       "      <td>NaN</td>\n",
       "      <td>Adapter</td>\n",
       "    </tr>\n",
       "    <tr>\n",
       "      <th>1</th>\n",
       "      <td>AVqkIhwDv8e3D1O-lebb</td>\n",
       "      <td>All-New Fire HD 8 Tablet, 8 HD Display, Wi-Fi,...</td>\n",
       "      <td>B01AHB9CN2</td>\n",
       "      <td>Amazon</td>\n",
       "      <td>Electronics,iPad &amp; Tablets,All Tablets,Fire Ta...</td>\n",
       "      <td>841667104676,amazon/53004484,amazon/b01ahb9cn2...</td>\n",
       "      <td>Amazon</td>\n",
       "      <td>2017-01-13T00:00:00.000Z</td>\n",
       "      <td>2017-07-03T23:33:15Z</td>\n",
       "      <td>2017-06-07T09:04:00.000Z,2017-04-30T00:45:00.000Z</td>\n",
       "      <td>...</td>\n",
       "      <td>True</td>\n",
       "      <td>NaN</td>\n",
       "      <td>0.0</td>\n",
       "      <td>5.0</td>\n",
       "      <td>http://reviews.bestbuy.com/3545/5620406/review...</td>\n",
       "      <td>great for beginner or experienced person. Boug...</td>\n",
       "      <td>very fast</td>\n",
       "      <td>NaN</td>\n",
       "      <td>NaN</td>\n",
       "      <td>truman</td>\n",
       "    </tr>\n",
       "    <tr>\n",
       "      <th>2</th>\n",
       "      <td>AVqkIhwDv8e3D1O-lebb</td>\n",
       "      <td>All-New Fire HD 8 Tablet, 8 HD Display, Wi-Fi,...</td>\n",
       "      <td>B01AHB9CN2</td>\n",
       "      <td>Amazon</td>\n",
       "      <td>Electronics,iPad &amp; Tablets,All Tablets,Fire Ta...</td>\n",
       "      <td>841667104676,amazon/53004484,amazon/b01ahb9cn2...</td>\n",
       "      <td>Amazon</td>\n",
       "      <td>2017-01-13T00:00:00.000Z</td>\n",
       "      <td>2017-07-03T23:33:15Z</td>\n",
       "      <td>2017-06-07T09:04:00.000Z,2017-04-30T00:45:00.000Z</td>\n",
       "      <td>...</td>\n",
       "      <td>True</td>\n",
       "      <td>NaN</td>\n",
       "      <td>0.0</td>\n",
       "      <td>5.0</td>\n",
       "      <td>http://reviews.bestbuy.com/3545/5620406/review...</td>\n",
       "      <td>Inexpensive tablet for him to use and learn on...</td>\n",
       "      <td>Beginner tablet for our 9 year old son.</td>\n",
       "      <td>NaN</td>\n",
       "      <td>NaN</td>\n",
       "      <td>DaveZ</td>\n",
       "    </tr>\n",
       "    <tr>\n",
       "      <th>3</th>\n",
       "      <td>AVqkIhwDv8e3D1O-lebb</td>\n",
       "      <td>All-New Fire HD 8 Tablet, 8 HD Display, Wi-Fi,...</td>\n",
       "      <td>B01AHB9CN2</td>\n",
       "      <td>Amazon</td>\n",
       "      <td>Electronics,iPad &amp; Tablets,All Tablets,Fire Ta...</td>\n",
       "      <td>841667104676,amazon/53004484,amazon/b01ahb9cn2...</td>\n",
       "      <td>Amazon</td>\n",
       "      <td>2017-01-13T00:00:00.000Z</td>\n",
       "      <td>2017-07-03T23:33:15Z</td>\n",
       "      <td>2017-06-07T09:04:00.000Z,2017-04-30T00:45:00.000Z</td>\n",
       "      <td>...</td>\n",
       "      <td>True</td>\n",
       "      <td>NaN</td>\n",
       "      <td>0.0</td>\n",
       "      <td>4.0</td>\n",
       "      <td>http://reviews.bestbuy.com/3545/5620406/review...</td>\n",
       "      <td>I've had my Fire HD 8 two weeks now and I love...</td>\n",
       "      <td>Good!!!</td>\n",
       "      <td>NaN</td>\n",
       "      <td>NaN</td>\n",
       "      <td>Shacks</td>\n",
       "    </tr>\n",
       "    <tr>\n",
       "      <th>4</th>\n",
       "      <td>AVqkIhwDv8e3D1O-lebb</td>\n",
       "      <td>All-New Fire HD 8 Tablet, 8 HD Display, Wi-Fi,...</td>\n",
       "      <td>B01AHB9CN2</td>\n",
       "      <td>Amazon</td>\n",
       "      <td>Electronics,iPad &amp; Tablets,All Tablets,Fire Ta...</td>\n",
       "      <td>841667104676,amazon/53004484,amazon/b01ahb9cn2...</td>\n",
       "      <td>Amazon</td>\n",
       "      <td>2017-01-12T00:00:00.000Z</td>\n",
       "      <td>2017-07-03T23:33:15Z</td>\n",
       "      <td>2017-06-07T09:04:00.000Z,2017-04-30T00:45:00.000Z</td>\n",
       "      <td>...</td>\n",
       "      <td>True</td>\n",
       "      <td>NaN</td>\n",
       "      <td>0.0</td>\n",
       "      <td>5.0</td>\n",
       "      <td>http://reviews.bestbuy.com/3545/5620406/review...</td>\n",
       "      <td>I bought this for my grand daughter when she c...</td>\n",
       "      <td>Fantastic Tablet for kids</td>\n",
       "      <td>NaN</td>\n",
       "      <td>NaN</td>\n",
       "      <td>explore42</td>\n",
       "    </tr>\n",
       "  </tbody>\n",
       "</table>\n",
       "<p>5 rows × 21 columns</p>\n",
       "</div>"
      ],
      "text/plain": [
       "                     id                                               name  \\\n",
       "0  AVqkIhwDv8e3D1O-lebb  All-New Fire HD 8 Tablet, 8 HD Display, Wi-Fi,...   \n",
       "1  AVqkIhwDv8e3D1O-lebb  All-New Fire HD 8 Tablet, 8 HD Display, Wi-Fi,...   \n",
       "2  AVqkIhwDv8e3D1O-lebb  All-New Fire HD 8 Tablet, 8 HD Display, Wi-Fi,...   \n",
       "3  AVqkIhwDv8e3D1O-lebb  All-New Fire HD 8 Tablet, 8 HD Display, Wi-Fi,...   \n",
       "4  AVqkIhwDv8e3D1O-lebb  All-New Fire HD 8 Tablet, 8 HD Display, Wi-Fi,...   \n",
       "\n",
       "        asins   brand                                         categories  \\\n",
       "0  B01AHB9CN2  Amazon  Electronics,iPad & Tablets,All Tablets,Fire Ta...   \n",
       "1  B01AHB9CN2  Amazon  Electronics,iPad & Tablets,All Tablets,Fire Ta...   \n",
       "2  B01AHB9CN2  Amazon  Electronics,iPad & Tablets,All Tablets,Fire Ta...   \n",
       "3  B01AHB9CN2  Amazon  Electronics,iPad & Tablets,All Tablets,Fire Ta...   \n",
       "4  B01AHB9CN2  Amazon  Electronics,iPad & Tablets,All Tablets,Fire Ta...   \n",
       "\n",
       "                                                keys manufacturer  \\\n",
       "0  841667104676,amazon/53004484,amazon/b01ahb9cn2...       Amazon   \n",
       "1  841667104676,amazon/53004484,amazon/b01ahb9cn2...       Amazon   \n",
       "2  841667104676,amazon/53004484,amazon/b01ahb9cn2...       Amazon   \n",
       "3  841667104676,amazon/53004484,amazon/b01ahb9cn2...       Amazon   \n",
       "4  841667104676,amazon/53004484,amazon/b01ahb9cn2...       Amazon   \n",
       "\n",
       "               reviews.date     reviews.dateAdded  \\\n",
       "0  2017-01-13T00:00:00.000Z  2017-07-03T23:33:15Z   \n",
       "1  2017-01-13T00:00:00.000Z  2017-07-03T23:33:15Z   \n",
       "2  2017-01-13T00:00:00.000Z  2017-07-03T23:33:15Z   \n",
       "3  2017-01-13T00:00:00.000Z  2017-07-03T23:33:15Z   \n",
       "4  2017-01-12T00:00:00.000Z  2017-07-03T23:33:15Z   \n",
       "\n",
       "                                    reviews.dateSeen  ... reviews.doRecommend  \\\n",
       "0  2017-06-07T09:04:00.000Z,2017-04-30T00:45:00.000Z  ...                True   \n",
       "1  2017-06-07T09:04:00.000Z,2017-04-30T00:45:00.000Z  ...                True   \n",
       "2  2017-06-07T09:04:00.000Z,2017-04-30T00:45:00.000Z  ...                True   \n",
       "3  2017-06-07T09:04:00.000Z,2017-04-30T00:45:00.000Z  ...                True   \n",
       "4  2017-06-07T09:04:00.000Z,2017-04-30T00:45:00.000Z  ...                True   \n",
       "\n",
       "  reviews.id  reviews.numHelpful  reviews.rating  \\\n",
       "0        NaN                 0.0             5.0   \n",
       "1        NaN                 0.0             5.0   \n",
       "2        NaN                 0.0             5.0   \n",
       "3        NaN                 0.0             4.0   \n",
       "4        NaN                 0.0             5.0   \n",
       "\n",
       "                                  reviews.sourceURLs  \\\n",
       "0  http://reviews.bestbuy.com/3545/5620406/review...   \n",
       "1  http://reviews.bestbuy.com/3545/5620406/review...   \n",
       "2  http://reviews.bestbuy.com/3545/5620406/review...   \n",
       "3  http://reviews.bestbuy.com/3545/5620406/review...   \n",
       "4  http://reviews.bestbuy.com/3545/5620406/review...   \n",
       "\n",
       "                                        reviews.text  \\\n",
       "0  This product so far has not disappointed. My c...   \n",
       "1  great for beginner or experienced person. Boug...   \n",
       "2  Inexpensive tablet for him to use and learn on...   \n",
       "3  I've had my Fire HD 8 two weeks now and I love...   \n",
       "4  I bought this for my grand daughter when she c...   \n",
       "\n",
       "                             reviews.title reviews.userCity  \\\n",
       "0                                   Kindle              NaN   \n",
       "1                                very fast              NaN   \n",
       "2  Beginner tablet for our 9 year old son.              NaN   \n",
       "3                                  Good!!!              NaN   \n",
       "4                Fantastic Tablet for kids              NaN   \n",
       "\n",
       "   reviews.userProvince  reviews.username  \n",
       "0                   NaN           Adapter  \n",
       "1                   NaN            truman  \n",
       "2                   NaN             DaveZ  \n",
       "3                   NaN            Shacks  \n",
       "4                   NaN         explore42  \n",
       "\n",
       "[5 rows x 21 columns]"
      ]
     },
     "execution_count": 2,
     "metadata": {},
     "output_type": "execute_result"
    }
   ],
   "source": [
    "df=pd.read_csv(\"../input/amazon-products-reviews-dataset/data.csv\")\n",
    "df.head()"
   ]
  },
  {
   "cell_type": "code",
   "execution_count": 3,
   "id": "8b860a73",
   "metadata": {
    "execution": {
     "iopub.execute_input": "2022-10-22T08:28:28.152160Z",
     "iopub.status.busy": "2022-10-22T08:28:28.151260Z",
     "iopub.status.idle": "2022-10-22T08:28:28.208550Z",
     "shell.execute_reply": "2022-10-22T08:28:28.206898Z"
    },
    "papermill": {
     "duration": 0.077237,
     "end_time": "2022-10-22T08:28:28.211497",
     "exception": false,
     "start_time": "2022-10-22T08:28:28.134260",
     "status": "completed"
    },
    "tags": []
   },
   "outputs": [
    {
     "name": "stdout",
     "output_type": "stream",
     "text": [
      "<class 'pandas.core.frame.DataFrame'>\n",
      "RangeIndex: 34660 entries, 0 to 34659\n",
      "Data columns (total 21 columns):\n",
      " #   Column                Non-Null Count  Dtype  \n",
      "---  ------                --------------  -----  \n",
      " 0   id                    34660 non-null  object \n",
      " 1   name                  27900 non-null  object \n",
      " 2   asins                 34658 non-null  object \n",
      " 3   brand                 34660 non-null  object \n",
      " 4   categories            34660 non-null  object \n",
      " 5   keys                  34660 non-null  object \n",
      " 6   manufacturer          34660 non-null  object \n",
      " 7   reviews.date          34621 non-null  object \n",
      " 8   reviews.dateAdded     24039 non-null  object \n",
      " 9   reviews.dateSeen      34660 non-null  object \n",
      " 10  reviews.didPurchase   1 non-null      object \n",
      " 11  reviews.doRecommend   34066 non-null  object \n",
      " 12  reviews.id            1 non-null      float64\n",
      " 13  reviews.numHelpful    34131 non-null  float64\n",
      " 14  reviews.rating        34627 non-null  float64\n",
      " 15  reviews.sourceURLs    34660 non-null  object \n",
      " 16  reviews.text          34659 non-null  object \n",
      " 17  reviews.title         34655 non-null  object \n",
      " 18  reviews.userCity      0 non-null      float64\n",
      " 19  reviews.userProvince  0 non-null      float64\n",
      " 20  reviews.username      34658 non-null  object \n",
      "dtypes: float64(5), object(16)\n",
      "memory usage: 5.6+ MB\n"
     ]
    }
   ],
   "source": [
    "df.info()"
   ]
  },
  {
   "cell_type": "markdown",
   "id": "cac7b538",
   "metadata": {
    "papermill": {
     "duration": 0.015229,
     "end_time": "2022-10-22T08:28:28.242541",
     "exception": false,
     "start_time": "2022-10-22T08:28:28.227312",
     "status": "completed"
    },
    "tags": []
   },
   "source": [
    "reviews.didPurchase , reviews.id , reviews.userCity , reviews.userProvince are completely empty so no use of them "
   ]
  },
  {
   "cell_type": "code",
   "execution_count": 4,
   "id": "4fde98ee",
   "metadata": {
    "execution": {
     "iopub.execute_input": "2022-10-22T08:28:28.275875Z",
     "iopub.status.busy": "2022-10-22T08:28:28.275219Z",
     "iopub.status.idle": "2022-10-22T08:28:28.321824Z",
     "shell.execute_reply": "2022-10-22T08:28:28.320543Z"
    },
    "papermill": {
     "duration": 0.06701,
     "end_time": "2022-10-22T08:28:28.324994",
     "exception": false,
     "start_time": "2022-10-22T08:28:28.257984",
     "status": "completed"
    },
    "tags": []
   },
   "outputs": [
    {
     "data": {
      "text/html": [
       "<div>\n",
       "<style scoped>\n",
       "    .dataframe tbody tr th:only-of-type {\n",
       "        vertical-align: middle;\n",
       "    }\n",
       "\n",
       "    .dataframe tbody tr th {\n",
       "        vertical-align: top;\n",
       "    }\n",
       "\n",
       "    .dataframe thead th {\n",
       "        text-align: right;\n",
       "    }\n",
       "</style>\n",
       "<table border=\"1\" class=\"dataframe\">\n",
       "  <thead>\n",
       "    <tr style=\"text-align: right;\">\n",
       "      <th></th>\n",
       "      <th>reviews.id</th>\n",
       "      <th>reviews.numHelpful</th>\n",
       "      <th>reviews.rating</th>\n",
       "      <th>reviews.userCity</th>\n",
       "      <th>reviews.userProvince</th>\n",
       "    </tr>\n",
       "  </thead>\n",
       "  <tbody>\n",
       "    <tr>\n",
       "      <th>count</th>\n",
       "      <td>1.0</td>\n",
       "      <td>34131.000000</td>\n",
       "      <td>34627.000000</td>\n",
       "      <td>0.0</td>\n",
       "      <td>0.0</td>\n",
       "    </tr>\n",
       "    <tr>\n",
       "      <th>mean</th>\n",
       "      <td>111372787.0</td>\n",
       "      <td>0.630248</td>\n",
       "      <td>4.584573</td>\n",
       "      <td>NaN</td>\n",
       "      <td>NaN</td>\n",
       "    </tr>\n",
       "    <tr>\n",
       "      <th>std</th>\n",
       "      <td>NaN</td>\n",
       "      <td>13.215775</td>\n",
       "      <td>0.735653</td>\n",
       "      <td>NaN</td>\n",
       "      <td>NaN</td>\n",
       "    </tr>\n",
       "    <tr>\n",
       "      <th>min</th>\n",
       "      <td>111372787.0</td>\n",
       "      <td>0.000000</td>\n",
       "      <td>1.000000</td>\n",
       "      <td>NaN</td>\n",
       "      <td>NaN</td>\n",
       "    </tr>\n",
       "    <tr>\n",
       "      <th>25%</th>\n",
       "      <td>111372787.0</td>\n",
       "      <td>0.000000</td>\n",
       "      <td>4.000000</td>\n",
       "      <td>NaN</td>\n",
       "      <td>NaN</td>\n",
       "    </tr>\n",
       "    <tr>\n",
       "      <th>50%</th>\n",
       "      <td>111372787.0</td>\n",
       "      <td>0.000000</td>\n",
       "      <td>5.000000</td>\n",
       "      <td>NaN</td>\n",
       "      <td>NaN</td>\n",
       "    </tr>\n",
       "    <tr>\n",
       "      <th>75%</th>\n",
       "      <td>111372787.0</td>\n",
       "      <td>0.000000</td>\n",
       "      <td>5.000000</td>\n",
       "      <td>NaN</td>\n",
       "      <td>NaN</td>\n",
       "    </tr>\n",
       "    <tr>\n",
       "      <th>max</th>\n",
       "      <td>111372787.0</td>\n",
       "      <td>814.000000</td>\n",
       "      <td>5.000000</td>\n",
       "      <td>NaN</td>\n",
       "      <td>NaN</td>\n",
       "    </tr>\n",
       "  </tbody>\n",
       "</table>\n",
       "</div>"
      ],
      "text/plain": [
       "        reviews.id  reviews.numHelpful  reviews.rating  reviews.userCity  \\\n",
       "count          1.0        34131.000000    34627.000000               0.0   \n",
       "mean   111372787.0            0.630248        4.584573               NaN   \n",
       "std            NaN           13.215775        0.735653               NaN   \n",
       "min    111372787.0            0.000000        1.000000               NaN   \n",
       "25%    111372787.0            0.000000        4.000000               NaN   \n",
       "50%    111372787.0            0.000000        5.000000               NaN   \n",
       "75%    111372787.0            0.000000        5.000000               NaN   \n",
       "max    111372787.0          814.000000        5.000000               NaN   \n",
       "\n",
       "       reviews.userProvince  \n",
       "count                   0.0  \n",
       "mean                    NaN  \n",
       "std                     NaN  \n",
       "min                     NaN  \n",
       "25%                     NaN  \n",
       "50%                     NaN  \n",
       "75%                     NaN  \n",
       "max                     NaN  "
      ]
     },
     "execution_count": 4,
     "metadata": {},
     "output_type": "execute_result"
    }
   ],
   "source": [
    "data=df.copy()\n",
    "data.describe()\n"
   ]
  },
  {
   "cell_type": "markdown",
   "id": "3ae4c3f6",
   "metadata": {
    "papermill": {
     "duration": 0.01665,
     "end_time": "2022-10-22T08:28:28.357766",
     "exception": false,
     "start_time": "2022-10-22T08:28:28.341116",
     "status": "completed"
    },
    "tags": []
   },
   "source": [
    "rating info and review helpful rating is important to analyse data later. Also mean reviews rating comes out to be 4.58"
   ]
  },
  {
   "cell_type": "code",
   "execution_count": 5,
   "id": "748ad5a3",
   "metadata": {
    "execution": {
     "iopub.execute_input": "2022-10-22T08:28:28.392482Z",
     "iopub.status.busy": "2022-10-22T08:28:28.391932Z",
     "iopub.status.idle": "2022-10-22T08:28:29.843033Z",
     "shell.execute_reply": "2022-10-22T08:28:29.841635Z"
    },
    "papermill": {
     "duration": 1.471665,
     "end_time": "2022-10-22T08:28:29.845854",
     "exception": false,
     "start_time": "2022-10-22T08:28:28.374189",
     "status": "completed"
    },
    "tags": []
   },
   "outputs": [
    {
     "data": {
      "text/plain": [
       "<AxesSubplot:>"
      ]
     },
     "execution_count": 5,
     "metadata": {},
     "output_type": "execute_result"
    },
    {
     "data": {
      "image/png": "[encoded data removed]",
      "text/plain": [
       "<Figure size 432x288 with 1 Axes>"
      ]
     },
     "metadata": {},
     "output_type": "display_data"
    }
   ],
   "source": [
    "sns.heatmap(df.isnull(),cbar=False,cmap=\"viridis\")"
   ]
  },
  {
   "cell_type": "markdown",
   "id": "cb8379db",
   "metadata": {
    "papermill": {
     "duration": 0.016877,
     "end_time": "2022-10-22T08:28:29.880060",
     "exception": false,
     "start_time": "2022-10-22T08:28:29.863183",
     "status": "completed"
    },
    "tags": []
   },
   "source": [
    "we can remove reviews.userCity, reviews.userProvince, reviews_id "
   ]
  },
  {
   "cell_type": "code",
   "execution_count": 6,
   "id": "fe82c766",
   "metadata": {
    "execution": {
     "iopub.execute_input": "2022-10-22T08:28:29.917532Z",
     "iopub.status.busy": "2022-10-22T08:28:29.915959Z",
     "iopub.status.idle": "2022-10-22T08:28:29.971093Z",
     "shell.execute_reply": "2022-10-22T08:28:29.969759Z"
    },
    "papermill": {
     "duration": 0.077623,
     "end_time": "2022-10-22T08:28:29.974608",
     "exception": false,
     "start_time": "2022-10-22T08:28:29.896985",
     "status": "completed"
    },
    "tags": []
   },
   "outputs": [
    {
     "name": "stdout",
     "output_type": "stream",
     "text": [
      "<class 'pandas.core.frame.DataFrame'>\n",
      "RangeIndex: 34660 entries, 0 to 34659\n",
      "Data columns (total 20 columns):\n",
      " #   Column                Non-Null Count  Dtype  \n",
      "---  ------                --------------  -----  \n",
      " 0   id                    34660 non-null  object \n",
      " 1   name                  27900 non-null  object \n",
      " 2   asins                 34658 non-null  object \n",
      " 3   brand                 34660 non-null  object \n",
      " 4   categories            34660 non-null  object \n",
      " 5   keys                  34660 non-null  object \n",
      " 6   manufacturer          34660 non-null  object \n",
      " 7   reviews.date          34621 non-null  object \n",
      " 8   reviews.dateAdded     24039 non-null  object \n",
      " 9   reviews.dateSeen      34660 non-null  object \n",
      " 10  reviews.didPurchase   1 non-null      object \n",
      " 11  reviews.doRecommend   34066 non-null  object \n",
      " 12  reviews.numHelpful    34131 non-null  float64\n",
      " 13  reviews.rating        34627 non-null  float64\n",
      " 14  reviews.sourceURLs    34660 non-null  object \n",
      " 15  reviews.text          34659 non-null  object \n",
      " 16  reviews.title         34655 non-null  object \n",
      " 17  reviews.userCity      0 non-null      float64\n",
      " 18  reviews.userProvince  0 non-null      float64\n",
      " 19  reviews.username      34658 non-null  object \n",
      "dtypes: float64(4), object(16)\n",
      "memory usage: 5.3+ MB\n"
     ]
    }
   ],
   "source": [
    "df.drop(['reviews.id'],inplace=True,axis=1)\n",
    "df.info()"
   ]
  },
  {
   "cell_type": "code",
   "execution_count": 7,
   "id": "1eb67606",
   "metadata": {
    "execution": {
     "iopub.execute_input": "2022-10-22T08:28:30.010874Z",
     "iopub.status.busy": "2022-10-22T08:28:30.010361Z",
     "iopub.status.idle": "2022-10-22T08:28:30.061691Z",
     "shell.execute_reply": "2022-10-22T08:28:30.060197Z"
    },
    "papermill": {
     "duration": 0.073022,
     "end_time": "2022-10-22T08:28:30.064648",
     "exception": false,
     "start_time": "2022-10-22T08:28:29.991626",
     "status": "completed"
    },
    "tags": []
   },
   "outputs": [
    {
     "name": "stdout",
     "output_type": "stream",
     "text": [
      "<class 'pandas.core.frame.DataFrame'>\n",
      "RangeIndex: 34660 entries, 0 to 34659\n",
      "Data columns (total 19 columns):\n",
      " #   Column                Non-Null Count  Dtype  \n",
      "---  ------                --------------  -----  \n",
      " 0   id                    34660 non-null  object \n",
      " 1   name                  27900 non-null  object \n",
      " 2   asins                 34658 non-null  object \n",
      " 3   brand                 34660 non-null  object \n",
      " 4   categories            34660 non-null  object \n",
      " 5   keys                  34660 non-null  object \n",
      " 6   manufacturer          34660 non-null  object \n",
      " 7   reviews.date          34621 non-null  object \n",
      " 8   reviews.dateAdded     24039 non-null  object \n",
      " 9   reviews.dateSeen      34660 non-null  object \n",
      " 10  reviews.doRecommend   34066 non-null  object \n",
      " 11  reviews.numHelpful    34131 non-null  float64\n",
      " 12  reviews.rating        34627 non-null  float64\n",
      " 13  reviews.sourceURLs    34660 non-null  object \n",
      " 14  reviews.text          34659 non-null  object \n",
      " 15  reviews.title         34655 non-null  object \n",
      " 16  reviews.userCity      0 non-null      float64\n",
      " 17  reviews.userProvince  0 non-null      float64\n",
      " 18  reviews.username      34658 non-null  object \n",
      "dtypes: float64(4), object(15)\n",
      "memory usage: 5.0+ MB\n"
     ]
    }
   ],
   "source": [
    "df.drop(['reviews.didPurchase'],inplace =True,axis=1)\n",
    "df.info()"
   ]
  },
  {
   "cell_type": "code",
   "execution_count": 8,
   "id": "4619f246",
   "metadata": {
    "execution": {
     "iopub.execute_input": "2022-10-22T08:28:30.101811Z",
     "iopub.status.busy": "2022-10-22T08:28:30.099919Z",
     "iopub.status.idle": "2022-10-22T08:28:30.135985Z",
     "shell.execute_reply": "2022-10-22T08:28:30.134969Z"
    },
    "papermill": {
     "duration": 0.05723,
     "end_time": "2022-10-22T08:28:30.138809",
     "exception": false,
     "start_time": "2022-10-22T08:28:30.081579",
     "status": "completed"
    },
    "tags": []
   },
   "outputs": [
    {
     "data": {
      "text/html": [
       "<div>\n",
       "<style scoped>\n",
       "    .dataframe tbody tr th:only-of-type {\n",
       "        vertical-align: middle;\n",
       "    }\n",
       "\n",
       "    .dataframe tbody tr th {\n",
       "        vertical-align: top;\n",
       "    }\n",
       "\n",
       "    .dataframe thead th {\n",
       "        text-align: right;\n",
       "    }\n",
       "</style>\n",
       "<table border=\"1\" class=\"dataframe\">\n",
       "  <thead>\n",
       "    <tr style=\"text-align: right;\">\n",
       "      <th></th>\n",
       "      <th>reviews.numHelpful</th>\n",
       "      <th>reviews.rating</th>\n",
       "      <th>reviews.userCity</th>\n",
       "      <th>reviews.userProvince</th>\n",
       "    </tr>\n",
       "  </thead>\n",
       "  <tbody>\n",
       "    <tr>\n",
       "      <th>count</th>\n",
       "      <td>34131.000000</td>\n",
       "      <td>34627.000000</td>\n",
       "      <td>0.0</td>\n",
       "      <td>0.0</td>\n",
       "    </tr>\n",
       "    <tr>\n",
       "      <th>mean</th>\n",
       "      <td>0.630248</td>\n",
       "      <td>4.584573</td>\n",
       "      <td>NaN</td>\n",
       "      <td>NaN</td>\n",
       "    </tr>\n",
       "    <tr>\n",
       "      <th>std</th>\n",
       "      <td>13.215775</td>\n",
       "      <td>0.735653</td>\n",
       "      <td>NaN</td>\n",
       "      <td>NaN</td>\n",
       "    </tr>\n",
       "    <tr>\n",
       "      <th>min</th>\n",
       "      <td>0.000000</td>\n",
       "      <td>1.000000</td>\n",
       "      <td>NaN</td>\n",
       "      <td>NaN</td>\n",
       "    </tr>\n",
       "    <tr>\n",
       "      <th>25%</th>\n",
       "      <td>0.000000</td>\n",
       "      <td>4.000000</td>\n",
       "      <td>NaN</td>\n",
       "      <td>NaN</td>\n",
       "    </tr>\n",
       "    <tr>\n",
       "      <th>50%</th>\n",
       "      <td>0.000000</td>\n",
       "      <td>5.000000</td>\n",
       "      <td>NaN</td>\n",
       "      <td>NaN</td>\n",
       "    </tr>\n",
       "    <tr>\n",
       "      <th>75%</th>\n",
       "      <td>0.000000</td>\n",
       "      <td>5.000000</td>\n",
       "      <td>NaN</td>\n",
       "      <td>NaN</td>\n",
       "    </tr>\n",
       "    <tr>\n",
       "      <th>max</th>\n",
       "      <td>814.000000</td>\n",
       "      <td>5.000000</td>\n",
       "      <td>NaN</td>\n",
       "      <td>NaN</td>\n",
       "    </tr>\n",
       "  </tbody>\n",
       "</table>\n",
       "</div>"
      ],
      "text/plain": [
       "       reviews.numHelpful  reviews.rating  reviews.userCity  \\\n",
       "count        34131.000000    34627.000000               0.0   \n",
       "mean             0.630248        4.584573               NaN   \n",
       "std             13.215775        0.735653               NaN   \n",
       "min              0.000000        1.000000               NaN   \n",
       "25%              0.000000        4.000000               NaN   \n",
       "50%              0.000000        5.000000               NaN   \n",
       "75%              0.000000        5.000000               NaN   \n",
       "max            814.000000        5.000000               NaN   \n",
       "\n",
       "       reviews.userProvince  \n",
       "count                   0.0  \n",
       "mean                    NaN  \n",
       "std                     NaN  \n",
       "min                     NaN  \n",
       "25%                     NaN  \n",
       "50%                     NaN  \n",
       "75%                     NaN  \n",
       "max                     NaN  "
      ]
     },
     "execution_count": 8,
     "metadata": {},
     "output_type": "execute_result"
    }
   ],
   "source": [
    "df.describe()"
   ]
  },
  {
   "cell_type": "markdown",
   "id": "891b8b57",
   "metadata": {
    "papermill": {
     "duration": 0.017088,
     "end_time": "2022-10-22T08:28:30.173178",
     "exception": false,
     "start_time": "2022-10-22T08:28:30.156090",
     "status": "completed"
    },
    "tags": []
   },
   "source": [
    "Insights from df.describe . Avg review rating =4.58.\n",
    "Avg review helpful is 0.6 but with high standard deviation so there are people whose reviews are imp and whose are not imp. Reviews lie btw 0-13 people finding helpful. \n",
    "Review that was most helful was to 814 people. "
   ]
  },
  {
   "cell_type": "code",
   "execution_count": 9,
   "id": "b7a8be43",
   "metadata": {
    "execution": {
     "iopub.execute_input": "2022-10-22T08:28:30.211018Z",
     "iopub.status.busy": "2022-10-22T08:28:30.209823Z",
     "iopub.status.idle": "2022-10-22T08:28:30.261220Z",
     "shell.execute_reply": "2022-10-22T08:28:30.259491Z"
    },
    "papermill": {
     "duration": 0.073535,
     "end_time": "2022-10-22T08:28:30.264314",
     "exception": false,
     "start_time": "2022-10-22T08:28:30.190779",
     "status": "completed"
    },
    "tags": []
   },
   "outputs": [
    {
     "name": "stdout",
     "output_type": "stream",
     "text": [
      "<class 'pandas.core.frame.DataFrame'>\n",
      "RangeIndex: 34660 entries, 0 to 34659\n",
      "Data columns (total 19 columns):\n",
      " #   Column                Non-Null Count  Dtype  \n",
      "---  ------                --------------  -----  \n",
      " 0   id                    34660 non-null  object \n",
      " 1   name                  27900 non-null  object \n",
      " 2   asins                 34658 non-null  object \n",
      " 3   brand                 34660 non-null  object \n",
      " 4   categories            34660 non-null  object \n",
      " 5   keys                  34660 non-null  object \n",
      " 6   manufacturer          34660 non-null  object \n",
      " 7   reviews.date          34621 non-null  object \n",
      " 8   reviews.dateAdded     24039 non-null  object \n",
      " 9   reviews.dateSeen      34660 non-null  object \n",
      " 10  reviews.doRecommend   34066 non-null  object \n",
      " 11  reviews.numHelpful    34131 non-null  float64\n",
      " 12  reviews.rating        34627 non-null  float64\n",
      " 13  reviews.sourceURLs    34660 non-null  object \n",
      " 14  reviews.text          34659 non-null  object \n",
      " 15  reviews.title         34655 non-null  object \n",
      " 16  reviews.userCity      0 non-null      float64\n",
      " 17  reviews.userProvince  0 non-null      float64\n",
      " 18  reviews.username      34658 non-null  object \n",
      "dtypes: float64(4), object(15)\n",
      "memory usage: 5.0+ MB\n"
     ]
    }
   ],
   "source": [
    "# making a copy for eda where we can drop strings and work on numerical values only\n",
    "data=df.copy()\n",
    "data.info()"
   ]
  },
  {
   "cell_type": "code",
   "execution_count": 10,
   "id": "428c09ea",
   "metadata": {
    "execution": {
     "iopub.execute_input": "2022-10-22T08:28:30.302374Z",
     "iopub.status.busy": "2022-10-22T08:28:30.301305Z",
     "iopub.status.idle": "2022-10-22T08:28:30.315083Z",
     "shell.execute_reply": "2022-10-22T08:28:30.313365Z"
    },
    "papermill": {
     "duration": 0.035771,
     "end_time": "2022-10-22T08:28:30.317964",
     "exception": false,
     "start_time": "2022-10-22T08:28:30.282193",
     "status": "completed"
    },
    "tags": []
   },
   "outputs": [
    {
     "name": "stdout",
     "output_type": "stream",
     "text": [
      "['B01AHB9CN2' 'B00VINDBJK' 'B005PB2T0S' 'B002Y27P3M' 'B01AHB9CYG'\n",
      " 'B01AHB9C1E' 'B01J2G4VBG' 'B00ZV9PXP2' 'B0083Q04TA' 'B018Y229OU'\n",
      " 'B00REQKWGA' 'B00IOYAM4I' 'B018T075DC' nan 'B00DU15MU4' 'B018Y225IA'\n",
      " 'B005PB2T2Q' 'B018Y23MNM' 'B00OQVZDJM' 'B00IOY8XWQ' 'B00LO29KXQ'\n",
      " 'B00QJDU3KY' 'B018Y22C2Y' 'B01BFIBRIE' 'B01J4ORNHU' 'B018SZT3BK'\n",
      " 'B00UH4D8G2' 'B018Y22BI4' 'B00TSUGXKE' 'B00L9EPT8O,B01E6AO69U'\n",
      " 'B018Y23P7K' 'B00X4WHP5E' 'B00QFQRELG' 'B00LW9XOJM' 'B00QL1ZN3G'\n",
      " 'B0189XYY0Q' 'B01BH83OOM' 'B00BFJAHF8' 'B00U3FPN4U' 'B002Y27P6Y'\n",
      " 'B006GWO5NE' 'B006GWO5WK']\n",
      "Number of Unique asins: 42\n"
     ]
    }
   ],
   "source": [
    "print(data['asins'].unique())\n",
    "asins_unique=len(data['asins'].unique())\n",
    "print(\"Number of Unique asins: \"+str(asins_unique))"
   ]
  },
  {
   "cell_type": "markdown",
   "id": "479f1565",
   "metadata": {
    "papermill": {
     "duration": 0.01681,
     "end_time": "2022-10-22T08:28:30.352669",
     "exception": false,
     "start_time": "2022-10-22T08:28:30.335859",
     "status": "completed"
    },
    "tags": []
   },
   "source": [
    "unique number of asins means number of different type of products. So we have 42 different kinds of products(products asins will be unique but there can be multiple products that fall under similar asins"
   ]
  },
  {
   "cell_type": "code",
   "execution_count": 11,
   "id": "17d6211f",
   "metadata": {
    "execution": {
     "iopub.execute_input": "2022-10-22T08:28:30.391560Z",
     "iopub.status.busy": "2022-10-22T08:28:30.390184Z",
     "iopub.status.idle": "2022-10-22T08:28:31.183013Z",
     "shell.execute_reply": "2022-10-22T08:28:31.181846Z"
    },
    "papermill": {
     "duration": 0.814943,
     "end_time": "2022-10-22T08:28:31.185847",
     "exception": false,
     "start_time": "2022-10-22T08:28:30.370904",
     "status": "completed"
    },
    "tags": []
   },
   "outputs": [
    {
     "data": {
      "image/png": "[encoded data removed]",
      "text/plain": [
       "<Figure size 1080x1080 with 4 Axes>"
      ]
     },
     "metadata": {},
     "output_type": "display_data"
    }
   ],
   "source": [
    "data.hist(figsize=(15,15))\n",
    "plt.show()"
   ]
  },
  {
   "cell_type": "markdown",
   "id": "a9f80747",
   "metadata": {
    "papermill": {
     "duration": 0.016302,
     "end_time": "2022-10-22T08:28:31.219154",
     "exception": false,
     "start_time": "2022-10-22T08:28:31.202852",
     "status": "completed"
    },
    "tags": []
   },
   "source": [
    "reviews.numHelpful: Outliers in this case are valuable, so we may want to weight reviews that had more than 50+ people who find them helpful. reviews.rating: Majority of examples were rated highly (looking at rating distribution). There is twice amount of 5 star ratings than the others ratings combined so problem arises when we train it with only high rating so it won't give proper result in negative rating. So we use stratified shuffle split "
   ]
  },
  {
   "cell_type": "markdown",
   "id": "a66a9b5c",
   "metadata": {
    "papermill": {
     "duration": 0.016553,
     "end_time": "2022-10-22T08:28:31.252447",
     "exception": false,
     "start_time": "2022-10-22T08:28:31.235894",
     "status": "completed"
    },
    "tags": []
   },
   "source": [
    "# Train test split with stratified shuffle"
   ]
  },
  {
   "cell_type": "code",
   "execution_count": 12,
   "id": "358149cf",
   "metadata": {
    "execution": {
     "iopub.execute_input": "2022-10-22T08:28:31.287735Z",
     "iopub.status.busy": "2022-10-22T08:28:31.287297Z",
     "iopub.status.idle": "2022-10-22T08:28:31.500581Z",
     "shell.execute_reply": "2022-10-22T08:28:31.499138Z"
    },
    "papermill": {
     "duration": 0.234416,
     "end_time": "2022-10-22T08:28:31.503634",
     "exception": false,
     "start_time": "2022-10-22T08:28:31.269218",
     "status": "completed"
    },
    "tags": []
   },
   "outputs": [
    {
     "name": "stdout",
     "output_type": "stream",
     "text": [
      "Before 34660\n",
      "After 34627\n"
     ]
    }
   ],
   "source": [
    "from sklearn.model_selection import StratifiedShuffleSplit\n",
    "print(\"Before {}\".format(len(data)))\n",
    "# now removing all null values from review.rating\n",
    "data_after=data.dropna(subset=['reviews.rating'])\n",
    "print(\"After {}\".format(len(data_after)))\n",
    "data_after['reviews.rating']=data_after['reviews.rating'].astype(int)"
   ]
  },
  {
   "cell_type": "markdown",
   "id": "e9b6d9bc",
   "metadata": {
    "papermill": {
     "duration": 0.016613,
     "end_time": "2022-10-22T08:28:31.537487",
     "exception": false,
     "start_time": "2022-10-22T08:28:31.520874",
     "status": "completed"
    },
    "tags": []
   },
   "source": [
    "stratified shuffle split: the data is shuffled everytime after a split which gives us better reach to overall dataset. we use this split when our dataset is too biased to one section so to balance it we shuffle it after every insertion of datapoint. So now no one type of data will be there in training dataset which makes it well trained for differnet datasets"
   ]
  },
  {
   "cell_type": "markdown",
   "id": "777efe07",
   "metadata": {
    "papermill": {
     "duration": 0.016772,
     "end_time": "2022-10-22T08:28:31.570986",
     "exception": false,
     "start_time": "2022-10-22T08:28:31.554214",
     "status": "completed"
    },
    "tags": []
   },
   "source": [
    "[https://scikit-learn.org/stable/modules/generated/sklearn.model_selection.StratifiedShuffleSplit.html](http://) More info in this documentation"
   ]
  },
  {
   "cell_type": "code",
   "execution_count": 13,
   "id": "d7d57bb3",
   "metadata": {
    "execution": {
     "iopub.execute_input": "2022-10-22T08:28:31.606326Z",
     "iopub.status.busy": "2022-10-22T08:28:31.605931Z",
     "iopub.status.idle": "2022-10-22T08:28:31.805198Z",
     "shell.execute_reply": "2022-10-22T08:28:31.804085Z"
    },
    "papermill": {
     "duration": 0.219701,
     "end_time": "2022-10-22T08:28:31.807583",
     "exception": false,
     "start_time": "2022-10-22T08:28:31.587882",
     "status": "completed"
    },
    "tags": []
   },
   "outputs": [
    {
     "data": {
      "text/html": [
       "<div>\n",
       "<style scoped>\n",
       "    .dataframe tbody tr th:only-of-type {\n",
       "        vertical-align: middle;\n",
       "    }\n",
       "\n",
       "    .dataframe tbody tr th {\n",
       "        vertical-align: top;\n",
       "    }\n",
       "\n",
       "    .dataframe thead th {\n",
       "        text-align: right;\n",
       "    }\n",
       "</style>\n",
       "<table border=\"1\" class=\"dataframe\">\n",
       "  <thead>\n",
       "    <tr style=\"text-align: right;\">\n",
       "      <th></th>\n",
       "      <th>id</th>\n",
       "      <th>name</th>\n",
       "      <th>asins</th>\n",
       "      <th>brand</th>\n",
       "      <th>categories</th>\n",
       "      <th>keys</th>\n",
       "      <th>manufacturer</th>\n",
       "      <th>reviews.date</th>\n",
       "      <th>reviews.dateAdded</th>\n",
       "      <th>reviews.dateSeen</th>\n",
       "      <th>reviews.doRecommend</th>\n",
       "      <th>reviews.numHelpful</th>\n",
       "      <th>reviews.rating</th>\n",
       "      <th>reviews.sourceURLs</th>\n",
       "      <th>reviews.text</th>\n",
       "      <th>reviews.title</th>\n",
       "      <th>reviews.userCity</th>\n",
       "      <th>reviews.userProvince</th>\n",
       "      <th>reviews.username</th>\n",
       "    </tr>\n",
       "  </thead>\n",
       "  <tbody>\n",
       "    <tr>\n",
       "      <th>23441</th>\n",
       "      <td>AVpfl8cLLJeJML43AE3S</td>\n",
       "      <td>Echo (White),,,\\r\\nEcho (White),,,</td>\n",
       "      <td>B00L9EPT8O,B01E6AO69U</td>\n",
       "      <td>Amazon</td>\n",
       "      <td>Stereos,Remote Controls,Amazon Echo,Audio Dock...</td>\n",
       "      <td>echowhite/263039693056,echowhite/152558276095,...</td>\n",
       "      <td>Amazon</td>\n",
       "      <td>2017-01-16T00:00:00.000Z</td>\n",
       "      <td>NaN</td>\n",
       "      <td>2017-09-28T00:00:00Z,2017-09-08T00:00:00Z,2017...</td>\n",
       "      <td>True</td>\n",
       "      <td>0.0</td>\n",
       "      <td>5.0</td>\n",
       "      <td>http://reviews.bestbuy.com/3545/5588528/review...</td>\n",
       "      <td>I am an avid Apple fan but Alexa has Siri beat...</td>\n",
       "      <td>Alexa's my best friend!</td>\n",
       "      <td>NaN</td>\n",
       "      <td>NaN</td>\n",
       "      <td>Nolesgirl</td>\n",
       "    </tr>\n",
       "    <tr>\n",
       "      <th>34401</th>\n",
       "      <td>AV1YE_muvKc47QAVgpwE</td>\n",
       "      <td>NaN</td>\n",
       "      <td>B00U3FPN4U</td>\n",
       "      <td>Amazon Fire Tv</td>\n",
       "      <td>Back To College,College Electronics,College Tv...</td>\n",
       "      <td>848719057492,amazonfiretv/51454342,amazonfiret...</td>\n",
       "      <td>Amazon</td>\n",
       "      <td>2015-10-31T00:00:00.000Z</td>\n",
       "      <td>2017-09-20T05:35:50Z</td>\n",
       "      <td>2017-08-25T21:44:54.629Z</td>\n",
       "      <td>False</td>\n",
       "      <td>5.0</td>\n",
       "      <td>1.0</td>\n",
       "      <td>http://reviews.bestbuy.com/3545/4370400/review...</td>\n",
       "      <td>I purchased this firetv to upgrade my from fir...</td>\n",
       "      <td>not really 4k</td>\n",
       "      <td>NaN</td>\n",
       "      <td>NaN</td>\n",
       "      <td>orland</td>\n",
       "    </tr>\n",
       "    <tr>\n",
       "      <th>33770</th>\n",
       "      <td>AV1YE_muvKc47QAVgpwE</td>\n",
       "      <td>NaN</td>\n",
       "      <td>B00U3FPN4U</td>\n",
       "      <td>Amazon Fire Tv</td>\n",
       "      <td>Back To College,College Electronics,College Tv...</td>\n",
       "      <td>848719057492,amazonfiretv/51454342,amazonfiret...</td>\n",
       "      <td>Amazon</td>\n",
       "      <td>2016-01-25T00:00:00.000Z</td>\n",
       "      <td>2017-09-20T05:35:52Z</td>\n",
       "      <td>2017-08-25T21:57:05.962Z,2017-08-19T09:26:21.1...</td>\n",
       "      <td>True</td>\n",
       "      <td>1.0</td>\n",
       "      <td>5.0</td>\n",
       "      <td>http://reviews.bestbuy.com/3545/4370400/review...</td>\n",
       "      <td>Out of all thats offered out there, this is my...</td>\n",
       "      <td>My favorite streaming device</td>\n",
       "      <td>NaN</td>\n",
       "      <td>NaN</td>\n",
       "      <td>Kevin</td>\n",
       "    </tr>\n",
       "    <tr>\n",
       "      <th>24642</th>\n",
       "      <td>AVpfl8cLLJeJML43AE3S</td>\n",
       "      <td>Echo (White),,,\\r\\nEcho (White),,,</td>\n",
       "      <td>B00L9EPT8O,B01E6AO69U</td>\n",
       "      <td>Amazon</td>\n",
       "      <td>Stereos,Remote Controls,Amazon Echo,Audio Dock...</td>\n",
       "      <td>echowhite/263039693056,echowhite/152558276095,...</td>\n",
       "      <td>Amazon</td>\n",
       "      <td>2016-11-14T00:00:00.000Z</td>\n",
       "      <td>NaN</td>\n",
       "      <td>2017-09-28T00:00:00Z,2017-09-08T00:00:00Z,2017...</td>\n",
       "      <td>True</td>\n",
       "      <td>0.0</td>\n",
       "      <td>4.0</td>\n",
       "      <td>http://reviews.bestbuy.com/3545/5588528/review...</td>\n",
       "      <td>The speaker on this unit really impressed me. ...</td>\n",
       "      <td>Great speaker</td>\n",
       "      <td>NaN</td>\n",
       "      <td>NaN</td>\n",
       "      <td>wustein</td>\n",
       "    </tr>\n",
       "    <tr>\n",
       "      <th>27587</th>\n",
       "      <td>AVpfl8cLLJeJML43AE3S</td>\n",
       "      <td>Amazon Fire Tv,,,\\r\\nAmazon Fire Tv,,,</td>\n",
       "      <td>B00L9EPT8O,B01E6AO69U</td>\n",
       "      <td>Amazon</td>\n",
       "      <td>Stereos,Remote Controls,Amazon Echo,Audio Dock...</td>\n",
       "      <td>echowhite/263039693056,echowhite/152558276095,...</td>\n",
       "      <td>Amazon</td>\n",
       "      <td>2016-06-12T00:00:00.000Z</td>\n",
       "      <td>NaN</td>\n",
       "      <td>2017-09-28T00:00:00Z,2017-09-08T00:00:00Z,2017...</td>\n",
       "      <td>True</td>\n",
       "      <td>0.0</td>\n",
       "      <td>5.0</td>\n",
       "      <td>http://reviews.bestbuy.com/3545/5588528/review...</td>\n",
       "      <td>I love my Amazon Echo so much that I had to bu...</td>\n",
       "      <td>Awesome! It has so many possibilities.</td>\n",
       "      <td>NaN</td>\n",
       "      <td>NaN</td>\n",
       "      <td>Topcop</td>\n",
       "    </tr>\n",
       "  </tbody>\n",
       "</table>\n",
       "</div>"
      ],
      "text/plain": [
       "                         id                                    name  \\\n",
       "23441  AVpfl8cLLJeJML43AE3S      Echo (White),,,\\r\\nEcho (White),,,   \n",
       "34401  AV1YE_muvKc47QAVgpwE                                     NaN   \n",
       "33770  AV1YE_muvKc47QAVgpwE                                     NaN   \n",
       "24642  AVpfl8cLLJeJML43AE3S      Echo (White),,,\\r\\nEcho (White),,,   \n",
       "27587  AVpfl8cLLJeJML43AE3S  Amazon Fire Tv,,,\\r\\nAmazon Fire Tv,,,   \n",
       "\n",
       "                       asins           brand  \\\n",
       "23441  B00L9EPT8O,B01E6AO69U          Amazon   \n",
       "34401             B00U3FPN4U  Amazon Fire Tv   \n",
       "33770             B00U3FPN4U  Amazon Fire Tv   \n",
       "24642  B00L9EPT8O,B01E6AO69U          Amazon   \n",
       "27587  B00L9EPT8O,B01E6AO69U          Amazon   \n",
       "\n",
       "                                              categories  \\\n",
       "23441  Stereos,Remote Controls,Amazon Echo,Audio Dock...   \n",
       "34401  Back To College,College Electronics,College Tv...   \n",
       "33770  Back To College,College Electronics,College Tv...   \n",
       "24642  Stereos,Remote Controls,Amazon Echo,Audio Dock...   \n",
       "27587  Stereos,Remote Controls,Amazon Echo,Audio Dock...   \n",
       "\n",
       "                                                    keys manufacturer  \\\n",
       "23441  echowhite/263039693056,echowhite/152558276095,...       Amazon   \n",
       "34401  848719057492,amazonfiretv/51454342,amazonfiret...       Amazon   \n",
       "33770  848719057492,amazonfiretv/51454342,amazonfiret...       Amazon   \n",
       "24642  echowhite/263039693056,echowhite/152558276095,...       Amazon   \n",
       "27587  echowhite/263039693056,echowhite/152558276095,...       Amazon   \n",
       "\n",
       "                   reviews.date     reviews.dateAdded  \\\n",
       "23441  2017-01-16T00:00:00.000Z                   NaN   \n",
       "34401  2015-10-31T00:00:00.000Z  2017-09-20T05:35:50Z   \n",
       "33770  2016-01-25T00:00:00.000Z  2017-09-20T05:35:52Z   \n",
       "24642  2016-11-14T00:00:00.000Z                   NaN   \n",
       "27587  2016-06-12T00:00:00.000Z                   NaN   \n",
       "\n",
       "                                        reviews.dateSeen reviews.doRecommend  \\\n",
       "23441  2017-09-28T00:00:00Z,2017-09-08T00:00:00Z,2017...                True   \n",
       "34401                           2017-08-25T21:44:54.629Z               False   \n",
       "33770  2017-08-25T21:57:05.962Z,2017-08-19T09:26:21.1...                True   \n",
       "24642  2017-09-28T00:00:00Z,2017-09-08T00:00:00Z,2017...                True   \n",
       "27587  2017-09-28T00:00:00Z,2017-09-08T00:00:00Z,2017...                True   \n",
       "\n",
       "       reviews.numHelpful  reviews.rating  \\\n",
       "23441                 0.0             5.0   \n",
       "34401                 5.0             1.0   \n",
       "33770                 1.0             5.0   \n",
       "24642                 0.0             4.0   \n",
       "27587                 0.0             5.0   \n",
       "\n",
       "                                      reviews.sourceURLs  \\\n",
       "23441  http://reviews.bestbuy.com/3545/5588528/review...   \n",
       "34401  http://reviews.bestbuy.com/3545/4370400/review...   \n",
       "33770  http://reviews.bestbuy.com/3545/4370400/review...   \n",
       "24642  http://reviews.bestbuy.com/3545/5588528/review...   \n",
       "27587  http://reviews.bestbuy.com/3545/5588528/review...   \n",
       "\n",
       "                                            reviews.text  \\\n",
       "23441  I am an avid Apple fan but Alexa has Siri beat...   \n",
       "34401  I purchased this firetv to upgrade my from fir...   \n",
       "33770  Out of all thats offered out there, this is my...   \n",
       "24642  The speaker on this unit really impressed me. ...   \n",
       "27587  I love my Amazon Echo so much that I had to bu...   \n",
       "\n",
       "                                reviews.title  reviews.userCity  \\\n",
       "23441                 Alexa's my best friend!               NaN   \n",
       "34401                           not really 4k               NaN   \n",
       "33770            My favorite streaming device               NaN   \n",
       "24642                           Great speaker               NaN   \n",
       "27587  Awesome! It has so many possibilities.               NaN   \n",
       "\n",
       "       reviews.userProvince reviews.username  \n",
       "23441                   NaN        Nolesgirl  \n",
       "34401                   NaN           orland  \n",
       "33770                   NaN            Kevin  \n",
       "24642                   NaN          wustein  \n",
       "27587                   NaN           Topcop  "
      ]
     },
     "execution_count": 13,
     "metadata": {},
     "output_type": "execute_result"
    }
   ],
   "source": [
    "split=StratifiedShuffleSplit(n_splits=5,test_size=0.2)\n",
    "for train_index,test_index in split.split(data_after,data_after[\"reviews.rating\"]):\n",
    "    strat_train=data_after.reindex(train_index)\n",
    "    strat_test=data_after.reindex(test_index)\n",
    "strat_train.head()"
   ]
  },
  {
   "cell_type": "markdown",
   "id": "4cb8ae3b",
   "metadata": {
    "papermill": {
     "duration": 0.017334,
     "end_time": "2022-10-22T08:28:31.842469",
     "exception": false,
     "start_time": "2022-10-22T08:28:31.825135",
     "status": "completed"
    },
    "tags": []
   },
   "source": [
    "So here we can see that we get randomised row in our training dataset by using stratified shuffle split"
   ]
  },
  {
   "cell_type": "code",
   "execution_count": 14,
   "id": "21dd95d2",
   "metadata": {
    "execution": {
     "iopub.execute_input": "2022-10-22T08:28:31.879155Z",
     "iopub.status.busy": "2022-10-22T08:28:31.878520Z",
     "iopub.status.idle": "2022-10-22T08:28:31.885076Z",
     "shell.execute_reply": "2022-10-22T08:28:31.884202Z"
    },
    "papermill": {
     "duration": 0.027433,
     "end_time": "2022-10-22T08:28:31.887135",
     "exception": false,
     "start_time": "2022-10-22T08:28:31.859702",
     "status": "completed"
    },
    "tags": []
   },
   "outputs": [
    {
     "data": {
      "text/plain": [
       "27701"
      ]
     },
     "execution_count": 14,
     "metadata": {},
     "output_type": "execute_result"
    }
   ],
   "source": [
    "len(strat_train)"
   ]
  },
  {
   "cell_type": "code",
   "execution_count": 15,
   "id": "cb366b24",
   "metadata": {
    "execution": {
     "iopub.execute_input": "2022-10-22T08:28:31.923433Z",
     "iopub.status.busy": "2022-10-22T08:28:31.923005Z",
     "iopub.status.idle": "2022-10-22T08:28:31.929881Z",
     "shell.execute_reply": "2022-10-22T08:28:31.928806Z"
    },
    "papermill": {
     "duration": 0.027679,
     "end_time": "2022-10-22T08:28:31.932115",
     "exception": false,
     "start_time": "2022-10-22T08:28:31.904436",
     "status": "completed"
    },
    "tags": []
   },
   "outputs": [
    {
     "data": {
      "text/plain": [
       "6926"
      ]
     },
     "execution_count": 15,
     "metadata": {},
     "output_type": "execute_result"
    }
   ],
   "source": [
    "len(strat_test)"
   ]
  },
  {
   "cell_type": "code",
   "execution_count": 16,
   "id": "c17d9149",
   "metadata": {
    "execution": {
     "iopub.execute_input": "2022-10-22T08:28:31.969322Z",
     "iopub.status.busy": "2022-10-22T08:28:31.968886Z",
     "iopub.status.idle": "2022-10-22T08:28:31.980737Z",
     "shell.execute_reply": "2022-10-22T08:28:31.979928Z"
    },
    "papermill": {
     "duration": 0.032746,
     "end_time": "2022-10-22T08:28:31.982728",
     "exception": false,
     "start_time": "2022-10-22T08:28:31.949982",
     "status": "completed"
    },
    "tags": []
   },
   "outputs": [
    {
     "data": {
      "text/plain": [
       "5.0    0.685679\n",
       "4.0    0.246525\n",
       "3.0    0.043031\n",
       "2.0    0.012057\n",
       "1.0    0.011805\n",
       "Name: reviews.rating, dtype: float64"
      ]
     },
     "execution_count": 16,
     "metadata": {},
     "output_type": "execute_result"
    }
   ],
   "source": [
    "strat_train[\"reviews.rating\"].value_counts()/len(strat_train)\n",
    "# this is to get percentage of each of the ratings "
   ]
  },
  {
   "cell_type": "code",
   "execution_count": 17,
   "id": "209ee7ae",
   "metadata": {
    "execution": {
     "iopub.execute_input": "2022-10-22T08:28:32.020767Z",
     "iopub.status.busy": "2022-10-22T08:28:32.019799Z",
     "iopub.status.idle": "2022-10-22T08:28:32.030085Z",
     "shell.execute_reply": "2022-10-22T08:28:32.028897Z"
    },
    "papermill": {
     "duration": 0.031929,
     "end_time": "2022-10-22T08:28:32.032510",
     "exception": false,
     "start_time": "2022-10-22T08:28:32.000581",
     "status": "completed"
    },
    "tags": []
   },
   "outputs": [
    {
     "data": {
      "text/plain": [
       "5.0    0.687843\n",
       "4.0    0.246751\n",
       "3.0    0.044037\n",
       "1.0    0.010540\n",
       "2.0    0.009674\n",
       "Name: reviews.rating, dtype: float64"
      ]
     },
     "execution_count": 17,
     "metadata": {},
     "output_type": "execute_result"
    }
   ],
   "source": [
    "strat_test[\"reviews.rating\"].value_counts()/len(strat_test)\n",
    "# this is to get percentage of each of the ratings in testing data"
   ]
  },
  {
   "cell_type": "markdown",
   "id": "dac6d766",
   "metadata": {
    "papermill": {
     "duration": 0.01762,
     "end_time": "2022-10-22T08:28:32.068363",
     "exception": false,
     "start_time": "2022-10-22T08:28:32.050743",
     "status": "completed"
    },
    "tags": []
   },
   "source": [
    "so stratified shuffle split helps in giving more appropriate answers as what if it is arranged in some way that 1* max rating comes in strat_train . so it helps in avg in out"
   ]
  },
  {
   "cell_type": "markdown",
   "id": "35766e6f",
   "metadata": {
    "papermill": {
     "duration": 0.017396,
     "end_time": "2022-10-22T08:28:32.103649",
     "exception": false,
     "start_time": "2022-10-22T08:28:32.086253",
     "status": "completed"
    },
    "tags": []
   },
   "source": [
    "# Exploratory Data Exploration(training set)"
   ]
  },
  {
   "cell_type": "code",
   "execution_count": 18,
   "id": "84fa6f94",
   "metadata": {
    "execution": {
     "iopub.execute_input": "2022-10-22T08:28:32.141559Z",
     "iopub.status.busy": "2022-10-22T08:28:32.141150Z",
     "iopub.status.idle": "2022-10-22T08:28:32.166096Z",
     "shell.execute_reply": "2022-10-22T08:28:32.164880Z"
    },
    "papermill": {
     "duration": 0.046337,
     "end_time": "2022-10-22T08:28:32.168537",
     "exception": false,
     "start_time": "2022-10-22T08:28:32.122200",
     "status": "completed"
    },
    "tags": []
   },
   "outputs": [
    {
     "data": {
      "text/html": [
       "<div>\n",
       "<style scoped>\n",
       "    .dataframe tbody tr th:only-of-type {\n",
       "        vertical-align: middle;\n",
       "    }\n",
       "\n",
       "    .dataframe tbody tr th {\n",
       "        vertical-align: top;\n",
       "    }\n",
       "\n",
       "    .dataframe thead th {\n",
       "        text-align: right;\n",
       "    }\n",
       "</style>\n",
       "<table border=\"1\" class=\"dataframe\">\n",
       "  <thead>\n",
       "    <tr style=\"text-align: right;\">\n",
       "      <th></th>\n",
       "      <th>id</th>\n",
       "      <th>name</th>\n",
       "      <th>asins</th>\n",
       "      <th>brand</th>\n",
       "      <th>categories</th>\n",
       "      <th>keys</th>\n",
       "      <th>manufacturer</th>\n",
       "      <th>reviews.date</th>\n",
       "      <th>reviews.dateAdded</th>\n",
       "      <th>reviews.dateSeen</th>\n",
       "      <th>reviews.doRecommend</th>\n",
       "      <th>reviews.numHelpful</th>\n",
       "      <th>reviews.rating</th>\n",
       "      <th>reviews.sourceURLs</th>\n",
       "      <th>reviews.text</th>\n",
       "      <th>reviews.title</th>\n",
       "      <th>reviews.userCity</th>\n",
       "      <th>reviews.userProvince</th>\n",
       "      <th>reviews.username</th>\n",
       "    </tr>\n",
       "  </thead>\n",
       "  <tbody>\n",
       "    <tr>\n",
       "      <th>23441</th>\n",
       "      <td>AVpfl8cLLJeJML43AE3S</td>\n",
       "      <td>Echo (White),,,\\r\\nEcho (White),,,</td>\n",
       "      <td>B00L9EPT8O,B01E6AO69U</td>\n",
       "      <td>Amazon</td>\n",
       "      <td>Stereos,Remote Controls,Amazon Echo,Audio Dock...</td>\n",
       "      <td>echowhite/263039693056,echowhite/152558276095,...</td>\n",
       "      <td>Amazon</td>\n",
       "      <td>2017-01-16T00:00:00.000Z</td>\n",
       "      <td>NaN</td>\n",
       "      <td>2017-09-28T00:00:00Z,2017-09-08T00:00:00Z,2017...</td>\n",
       "      <td>True</td>\n",
       "      <td>0.0</td>\n",
       "      <td>5.0</td>\n",
       "      <td>http://reviews.bestbuy.com/3545/5588528/review...</td>\n",
       "      <td>I am an avid Apple fan but Alexa has Siri beat...</td>\n",
       "      <td>Alexa's my best friend!</td>\n",
       "      <td>NaN</td>\n",
       "      <td>NaN</td>\n",
       "      <td>Nolesgirl</td>\n",
       "    </tr>\n",
       "    <tr>\n",
       "      <th>34401</th>\n",
       "      <td>AV1YE_muvKc47QAVgpwE</td>\n",
       "      <td>NaN</td>\n",
       "      <td>B00U3FPN4U</td>\n",
       "      <td>Amazon Fire Tv</td>\n",
       "      <td>Back To College,College Electronics,College Tv...</td>\n",
       "      <td>848719057492,amazonfiretv/51454342,amazonfiret...</td>\n",
       "      <td>Amazon</td>\n",
       "      <td>2015-10-31T00:00:00.000Z</td>\n",
       "      <td>2017-09-20T05:35:50Z</td>\n",
       "      <td>2017-08-25T21:44:54.629Z</td>\n",
       "      <td>False</td>\n",
       "      <td>5.0</td>\n",
       "      <td>1.0</td>\n",
       "      <td>http://reviews.bestbuy.com/3545/4370400/review...</td>\n",
       "      <td>I purchased this firetv to upgrade my from fir...</td>\n",
       "      <td>not really 4k</td>\n",
       "      <td>NaN</td>\n",
       "      <td>NaN</td>\n",
       "      <td>orland</td>\n",
       "    </tr>\n",
       "  </tbody>\n",
       "</table>\n",
       "</div>"
      ],
      "text/plain": [
       "                         id                                name  \\\n",
       "23441  AVpfl8cLLJeJML43AE3S  Echo (White),,,\\r\\nEcho (White),,,   \n",
       "34401  AV1YE_muvKc47QAVgpwE                                 NaN   \n",
       "\n",
       "                       asins           brand  \\\n",
       "23441  B00L9EPT8O,B01E6AO69U          Amazon   \n",
       "34401             B00U3FPN4U  Amazon Fire Tv   \n",
       "\n",
       "                                              categories  \\\n",
       "23441  Stereos,Remote Controls,Amazon Echo,Audio Dock...   \n",
       "34401  Back To College,College Electronics,College Tv...   \n",
       "\n",
       "                                                    keys manufacturer  \\\n",
       "23441  echowhite/263039693056,echowhite/152558276095,...       Amazon   \n",
       "34401  848719057492,amazonfiretv/51454342,amazonfiret...       Amazon   \n",
       "\n",
       "                   reviews.date     reviews.dateAdded  \\\n",
       "23441  2017-01-16T00:00:00.000Z                   NaN   \n",
       "34401  2015-10-31T00:00:00.000Z  2017-09-20T05:35:50Z   \n",
       "\n",
       "                                        reviews.dateSeen reviews.doRecommend  \\\n",
       "23441  2017-09-28T00:00:00Z,2017-09-08T00:00:00Z,2017...                True   \n",
       "34401                           2017-08-25T21:44:54.629Z               False   \n",
       "\n",
       "       reviews.numHelpful  reviews.rating  \\\n",
       "23441                 0.0             5.0   \n",
       "34401                 5.0             1.0   \n",
       "\n",
       "                                      reviews.sourceURLs  \\\n",
       "23441  http://reviews.bestbuy.com/3545/5588528/review...   \n",
       "34401  http://reviews.bestbuy.com/3545/4370400/review...   \n",
       "\n",
       "                                            reviews.text  \\\n",
       "23441  I am an avid Apple fan but Alexa has Siri beat...   \n",
       "34401  I purchased this firetv to upgrade my from fir...   \n",
       "\n",
       "                 reviews.title  reviews.userCity  reviews.userProvince  \\\n",
       "23441  Alexa's my best friend!               NaN                   NaN   \n",
       "34401            not really 4k               NaN                   NaN   \n",
       "\n",
       "      reviews.username  \n",
       "23441        Nolesgirl  \n",
       "34401           orland  "
      ]
     },
     "execution_count": 18,
     "metadata": {},
     "output_type": "execute_result"
    }
   ],
   "source": [
    "reviews=strat_train.copy()\n",
    "reviews.head(2)"
   ]
  },
  {
   "cell_type": "code",
   "execution_count": 19,
   "id": "de786d8c",
   "metadata": {
    "execution": {
     "iopub.execute_input": "2022-10-22T08:28:32.209088Z",
     "iopub.status.busy": "2022-10-22T08:28:32.208326Z",
     "iopub.status.idle": "2022-10-22T08:28:32.217873Z",
     "shell.execute_reply": "2022-10-22T08:28:32.217052Z"
    },
    "papermill": {
     "duration": 0.033342,
     "end_time": "2022-10-22T08:28:32.219928",
     "exception": false,
     "start_time": "2022-10-22T08:28:32.186586",
     "status": "completed"
    },
    "tags": []
   },
   "outputs": [
    {
     "data": {
      "text/plain": [
       "(45, 35)"
      ]
     },
     "execution_count": 19,
     "metadata": {},
     "output_type": "execute_result"
    }
   ],
   "source": [
    "len(reviews['name'].unique()),len(reviews['asins'].unique())"
   ]
  },
  {
   "cell_type": "markdown",
   "id": "989fd13e",
   "metadata": {
    "papermill": {
     "duration": 0.01805,
     "end_time": "2022-10-22T08:28:32.256505",
     "exception": false,
     "start_time": "2022-10-22T08:28:32.238455",
     "status": "completed"
    },
    "tags": []
   },
   "source": [
    "so we have 35 products in training data ASINs but more product names 48. so we have **one to many relationship** btw asins and names. A single asin can have different name due to different seller"
   ]
  },
  {
   "cell_type": "code",
   "execution_count": 20,
   "id": "08b432bd",
   "metadata": {
    "execution": {
     "iopub.execute_input": "2022-10-22T08:28:32.295112Z",
     "iopub.status.busy": "2022-10-22T08:28:32.294446Z",
     "iopub.status.idle": "2022-10-22T08:28:32.319214Z",
     "shell.execute_reply": "2022-10-22T08:28:32.317832Z"
    },
    "papermill": {
     "duration": 0.046966,
     "end_time": "2022-10-22T08:28:32.321675",
     "exception": false,
     "start_time": "2022-10-22T08:28:32.274709",
     "status": "completed"
    },
    "tags": []
   },
   "outputs": [
    {
     "data": {
      "text/plain": [
       "asins\n",
       "B005PB2T0S               [Kindle Keyboard,,,\\r\\nKindle Keyboard,,,, Ama...\n",
       "B005PB2T2Q               [Fire Kids Edition Tablet, 7 Display, Wi-Fi, 1...\n",
       "B00IOY8XWQ               [Amazon Fire Hd 8 8in Tablet 16gb Black B018sz...\n",
       "B00IOYAM4I               [Brand New Amazon Kindle Fire 16gb 7 Ips Displ...\n",
       "B00L9EPT8O,B01E6AO69U    [Echo (White),,,\\r\\nEcho (White),,,, Amazon Fi...\n",
       "B00LO29KXQ               [Fire Tablet, 7 Display, Wi-Fi, 8 GB - Include...\n",
       "B00LW9XOJM                                                           [nan]\n",
       "B00OQVZDJM               [Amazon Kindle Paperwhite - eBook reader - 4 G...\n",
       "B00QFQRELG                                                           [nan]\n",
       "B00QJDU3KY               [Fire Tablet, 7 Display, Wi-Fi, 8 GB - Include...\n",
       "B00QL1ZN3G                                                           [nan]\n",
       "B00REQKWGA               [Brand New Amazon Kindle Fire 16gb 7 Ips Displ...\n",
       "B00TSUGXKE                            [Echo (White),,,\\r\\nEcho (White),,,]\n",
       "B00U3FPN4U                                                           [nan]\n",
       "B00UH4D8G2                            [Echo (White),,,\\r\\nEcho (White),,,]\n",
       "B00VINDBJK               [Kindle Oasis E-reader with Leather Charging C...\n",
       "B00X4WHP5E                                                           [nan]\n",
       "B00ZV9PXP2               [Fire Tablet, 7 Display, Wi-Fi, 8 GB - Include...\n",
       "B0189XYY0Q                                                           [nan]\n",
       "B018SZT3BK               [Fire Tablet, 7 Display, Wi-Fi, 8 GB - Include...\n",
       "B018T075DC               [Brand New Amazon Kindle Fire 16gb 7 Ips Displ...\n",
       "B018Y225IA               [Fire Kids Edition Tablet, 7 Display, Wi-Fi, 1...\n",
       "B018Y229OU               [Fire Tablet, 7 Display, Wi-Fi, 8 GB - Include...\n",
       "B018Y22BI4                            [Echo (White),,,\\r\\nEcho (White),,,]\n",
       "B018Y22C2Y               [Fire Tablet, 7 Display, Wi-Fi, 8 GB - Include...\n",
       "B018Y23MNM               [Fire Kids Edition Tablet, 7 Display, Wi-Fi, 1...\n",
       "B018Y23P7K                                                           [nan]\n",
       "B01AHB9C1E               [Amazon 5W USB Official OEM Charger and Power ...\n",
       "B01AHB9CN2               [All-New Fire HD 8 Tablet, 8 HD Display, Wi-Fi...\n",
       "B01AHB9CYG               [All-New Fire HD 8 Tablet, 8 HD Display, Wi-Fi...\n",
       "B01BFIBRIE               [Fire Tablet, 7 Display, Wi-Fi, 8 GB - Include...\n",
       "B01BH83OOM                                                           [nan]\n",
       "B01J2G4VBG               [All-New Kindle E-reader - Black, 6 Glare-Free...\n",
       "B01J4ORNHU               [Fire Tablet, 7 Display, Wi-Fi, 8 GB - Include...\n",
       "Name: name, dtype: object"
      ]
     },
     "execution_count": 20,
     "metadata": {},
     "output_type": "execute_result"
    }
   ],
   "source": [
    "# so its better to group by on the basis of asins\n",
    "reviews.groupby('asins')['name'].unique()"
   ]
  },
  {
   "cell_type": "markdown",
   "id": "e999596e",
   "metadata": {
    "papermill": {
     "duration": 0.01781,
     "end_time": "2022-10-22T08:28:32.357677",
     "exception": false,
     "start_time": "2022-10-22T08:28:32.339867",
     "status": "completed"
    },
    "tags": []
   },
   "source": [
    "we are concerned with product ratings and reviews so we take care of asins only"
   ]
  },
  {
   "cell_type": "code",
   "execution_count": 21,
   "id": "00621738",
   "metadata": {
    "execution": {
     "iopub.execute_input": "2022-10-22T08:28:32.396192Z",
     "iopub.status.busy": "2022-10-22T08:28:32.395756Z",
     "iopub.status.idle": "2022-10-22T08:28:32.436545Z",
     "shell.execute_reply": "2022-10-22T08:28:32.434919Z"
    },
    "papermill": {
     "duration": 0.063033,
     "end_time": "2022-10-22T08:28:32.439211",
     "exception": false,
     "start_time": "2022-10-22T08:28:32.376178",
     "status": "completed"
    },
    "tags": []
   },
   "outputs": [
    {
     "name": "stdout",
     "output_type": "stream",
     "text": [
      "<class 'pandas.core.frame.DataFrame'>\n",
      "Int64Index: 27701 entries, 23441 to 14882\n",
      "Data columns (total 19 columns):\n",
      " #   Column                Non-Null Count  Dtype  \n",
      "---  ------                --------------  -----  \n",
      " 0   id                    27676 non-null  object \n",
      " 1   name                  22265 non-null  object \n",
      " 2   asins                 27674 non-null  object \n",
      " 3   brand                 27676 non-null  object \n",
      " 4   categories            27676 non-null  object \n",
      " 5   keys                  27676 non-null  object \n",
      " 6   manufacturer          27676 non-null  object \n",
      " 7   reviews.date          27658 non-null  object \n",
      " 8   reviews.dateAdded     19226 non-null  object \n",
      " 9   reviews.dateSeen      27676 non-null  object \n",
      " 10  reviews.doRecommend   27269 non-null  object \n",
      " 11  reviews.numHelpful    27314 non-null  float64\n",
      " 12  reviews.rating        27676 non-null  float64\n",
      " 13  reviews.sourceURLs    27676 non-null  object \n",
      " 14  reviews.text          27675 non-null  object \n",
      " 15  reviews.title         27672 non-null  object \n",
      " 16  reviews.userCity      0 non-null      float64\n",
      " 17  reviews.userProvince  0 non-null      float64\n",
      " 18  reviews.username      27674 non-null  object \n",
      "dtypes: float64(4), object(15)\n",
      "memory usage: 4.2+ MB\n"
     ]
    }
   ],
   "source": [
    "reviews.info()"
   ]
  },
  {
   "cell_type": "markdown",
   "id": "2b10f179",
   "metadata": {
    "papermill": {
     "duration": 0.017879,
     "end_time": "2022-10-22T08:28:32.475611",
     "exception": false,
     "start_time": "2022-10-22T08:28:32.457732",
     "status": "completed"
    },
    "tags": []
   },
   "source": [
    "# Asins/Names with ratings"
   ]
  },
  {
   "cell_type": "code",
   "execution_count": 22,
   "id": "d7053eba",
   "metadata": {
    "execution": {
     "iopub.execute_input": "2022-10-22T08:28:32.514610Z",
     "iopub.status.busy": "2022-10-22T08:28:32.513581Z",
     "iopub.status.idle": "2022-10-22T08:28:33.251625Z",
     "shell.execute_reply": "2022-10-22T08:28:33.250537Z"
    },
    "papermill": {
     "duration": 0.760051,
     "end_time": "2022-10-22T08:28:33.253895",
     "exception": false,
     "start_time": "2022-10-22T08:28:32.493844",
     "status": "completed"
    },
    "tags": []
   },
   "outputs": [
    {
     "data": {
      "image/png": "[encoded data removed]",
      "text/plain": [
       "<Figure size 1152x720 with 2 Axes>"
      ]
     },
     "metadata": {},
     "output_type": "display_data"
    }
   ],
   "source": [
    "fig = plt.figure(figsize=(16,10))\n",
    "# we use subplot when we have to see interrelationship btw two graphs\n",
    "ax1 = plt.subplot(2,1,1)\n",
    "ax2 = plt.subplot(2,1,2, sharex = ax1)\n",
    "reviews[\"asins\"].value_counts().plot(kind=\"bar\", ax=ax1, title=\"ASIN Frequency\")\n",
    "# The ax (or Axes object) is the area of the figure where your data appears\n",
    "np.log10(reviews[\"asins\"].value_counts()).plot(kind=\"bar\", ax=ax2, \n",
    "                                               title=\"ASIN Frequency (Log10 Adjusted)\") \n",
    "# np.log10 normalises our data to visualise the graph and difference much better\n",
    "plt.show()"
   ]
  },
  {
   "cell_type": "markdown",
   "id": "b75b2b40",
   "metadata": {
    "papermill": {
     "duration": 0.018692,
     "end_time": "2022-10-22T08:28:33.292149",
     "exception": false,
     "start_time": "2022-10-22T08:28:33.273457",
     "status": "completed"
    },
    "tags": []
   },
   "source": [
    "so we know that what asins have max number of people rating . And this answers which asins have most sales "
   ]
  },
  {
   "cell_type": "markdown",
   "id": "89037058",
   "metadata": {
    "papermill": {
     "duration": 0.018753,
     "end_time": "2022-10-22T08:28:33.329834",
     "exception": false,
     "start_time": "2022-10-22T08:28:33.311081",
     "status": "completed"
    },
    "tags": []
   },
   "source": [
    "# ASINS/Reviews"
   ]
  },
  {
   "cell_type": "code",
   "execution_count": 23,
   "id": "ca3f72ae",
   "metadata": {
    "execution": {
     "iopub.execute_input": "2022-10-22T08:28:33.370133Z",
     "iopub.status.busy": "2022-10-22T08:28:33.369742Z",
     "iopub.status.idle": "2022-10-22T08:28:33.377279Z",
     "shell.execute_reply": "2022-10-22T08:28:33.375687Z"
    },
    "papermill": {
     "duration": 0.030813,
     "end_time": "2022-10-22T08:28:33.379635",
     "exception": false,
     "start_time": "2022-10-22T08:28:33.348822",
     "status": "completed"
    },
    "tags": []
   },
   "outputs": [
    {
     "data": {
      "text/plain": [
       "4.583646480705304"
      ]
     },
     "execution_count": 23,
     "metadata": {},
     "output_type": "execute_result"
    }
   ],
   "source": [
    "reviews['reviews.rating'].mean()\n",
    "# trianing data set rating mean"
   ]
  },
  {
   "cell_type": "code",
   "execution_count": 24,
   "id": "ba3006b8",
   "metadata": {
    "execution": {
     "iopub.execute_input": "2022-10-22T08:28:33.420100Z",
     "iopub.status.busy": "2022-10-22T08:28:33.419689Z",
     "iopub.status.idle": "2022-10-22T08:28:35.258099Z",
     "shell.execute_reply": "2022-10-22T08:28:35.256714Z"
    },
    "papermill": {
     "duration": 1.862111,
     "end_time": "2022-10-22T08:28:35.261302",
     "exception": false,
     "start_time": "2022-10-22T08:28:33.399191",
     "status": "completed"
    },
    "tags": []
   },
   "outputs": [
    {
     "data": {
      "image/png": "[encoded data removed]",
      "text/plain": [
       "<Figure size 1152x864 with 2 Axes>"
      ]
     },
     "metadata": {},
     "output_type": "display_data"
    }
   ],
   "source": [
    "# now we will use pointplot to see our number of those people giving ratings\n",
    "asins_count=reviews['asins'].value_counts().index\n",
    "plt.subplots(2,1,figsize=(16,12))\n",
    "plt.subplot(2,1,1)\n",
    "reviews['asins'].value_counts().plot(kind=\"bar\",title=\"ASINS frequeny\")\n",
    "plt.subplot(2,1,2)\n",
    "sns.pointplot(x=\"asins\",y=\"reviews.rating\",order=asins_count,data=reviews)\n",
    "plt.xticks(rotation=90)\n",
    "plt.show()"
   ]
  },
  {
   "cell_type": "markdown",
   "id": "2a2eccd4",
   "metadata": {
    "papermill": {
     "duration": 0.021937,
     "end_time": "2022-10-22T08:28:35.308192",
     "exception": false,
     "start_time": "2022-10-22T08:28:35.286255",
     "status": "completed"
    },
    "tags": []
   },
   "source": [
    "so we have info about rating of product and no. of reviews given on that asin.Here dots are means and lines extremes show max min rating value.So now we can do analysis of products quality using no. of users"
   ]
  },
  {
   "cell_type": "markdown",
   "id": "7f8ef6e6",
   "metadata": {
    "papermill": {
     "duration": 0.022841,
     "end_time": "2022-10-22T08:28:35.356320",
     "exception": false,
     "start_time": "2022-10-22T08:28:35.333479",
     "status": "completed"
    },
    "tags": []
   },
   "source": [
    "# reviews.doRecommend/ASINs"
   ]
  },
  {
   "cell_type": "code",
   "execution_count": 25,
   "id": "721e0360",
   "metadata": {
    "execution": {
     "iopub.execute_input": "2022-10-22T08:28:35.404307Z",
     "iopub.status.busy": "2022-10-22T08:28:35.403541Z",
     "iopub.status.idle": "2022-10-22T08:28:38.123870Z",
     "shell.execute_reply": "2022-10-22T08:28:38.122708Z"
    },
    "papermill": {
     "duration": 2.748389,
     "end_time": "2022-10-22T08:28:38.127431",
     "exception": false,
     "start_time": "2022-10-22T08:28:35.379042",
     "status": "completed"
    },
    "tags": []
   },
   "outputs": [
    {
     "data": {
      "image/png": "[encoded data removed]",
      "text/plain": [
       "<Figure size 1152x864 with 2 Axes>"
      ]
     },
     "metadata": {},
     "output_type": "display_data"
    }
   ],
   "source": [
    "plt.subplots(2,1,figsize=(16,12))\n",
    "plt.subplot(2,1,1)\n",
    "reviews['asins'].value_counts().plot(kind=\"bar\",title=\"ASINS frequeny\")\n",
    "plt.subplot(2,1,2)\n",
    "sns.pointplot(x=\"asins\",y=\"reviews.doRecommend\",order=asins_count,data=reviews)\n",
    "plt.xticks(rotation=90)\n",
    "plt.show()"
   ]
  },
  {
   "cell_type": "markdown",
   "id": "d7a0a9e4",
   "metadata": {
    "papermill": {
     "duration": 0.02221,
     "end_time": "2022-10-22T08:28:38.173265",
     "exception": false,
     "start_time": "2022-10-22T08:28:38.151055",
     "status": "completed"
    },
    "tags": []
   },
   "source": [
    "Info about which product is more frequently recommended and if its sold more or not based on that recommendation"
   ]
  },
  {
   "cell_type": "markdown",
   "id": "c2ac0679",
   "metadata": {
    "papermill": {
     "duration": 0.022344,
     "end_time": "2022-10-22T08:28:38.218275",
     "exception": false,
     "start_time": "2022-10-22T08:28:38.195931",
     "status": "completed"
    },
    "tags": []
   },
   "source": [
    "# Correlations"
   ]
  },
  {
   "cell_type": "code",
   "execution_count": 26,
   "id": "b07ee2ea",
   "metadata": {
    "execution": {
     "iopub.execute_input": "2022-10-22T08:28:38.265549Z",
     "iopub.status.busy": "2022-10-22T08:28:38.265116Z",
     "iopub.status.idle": "2022-10-22T08:28:38.279350Z",
     "shell.execute_reply": "2022-10-22T08:28:38.278315Z"
    },
    "papermill": {
     "duration": 0.040517,
     "end_time": "2022-10-22T08:28:38.281577",
     "exception": false,
     "start_time": "2022-10-22T08:28:38.241060",
     "status": "completed"
    },
    "tags": []
   },
   "outputs": [
    {
     "data": {
      "text/html": [
       "<div>\n",
       "<style scoped>\n",
       "    .dataframe tbody tr th:only-of-type {\n",
       "        vertical-align: middle;\n",
       "    }\n",
       "\n",
       "    .dataframe tbody tr th {\n",
       "        vertical-align: top;\n",
       "    }\n",
       "\n",
       "    .dataframe thead th {\n",
       "        text-align: right;\n",
       "    }\n",
       "</style>\n",
       "<table border=\"1\" class=\"dataframe\">\n",
       "  <thead>\n",
       "    <tr style=\"text-align: right;\">\n",
       "      <th></th>\n",
       "      <th>reviews.numHelpful</th>\n",
       "      <th>reviews.rating</th>\n",
       "      <th>reviews.userCity</th>\n",
       "      <th>reviews.userProvince</th>\n",
       "    </tr>\n",
       "  </thead>\n",
       "  <tbody>\n",
       "    <tr>\n",
       "      <th>reviews.numHelpful</th>\n",
       "      <td>1.000000</td>\n",
       "      <td>-0.047385</td>\n",
       "      <td>NaN</td>\n",
       "      <td>NaN</td>\n",
       "    </tr>\n",
       "    <tr>\n",
       "      <th>reviews.rating</th>\n",
       "      <td>-0.047385</td>\n",
       "      <td>1.000000</td>\n",
       "      <td>NaN</td>\n",
       "      <td>NaN</td>\n",
       "    </tr>\n",
       "    <tr>\n",
       "      <th>reviews.userCity</th>\n",
       "      <td>NaN</td>\n",
       "      <td>NaN</td>\n",
       "      <td>NaN</td>\n",
       "      <td>NaN</td>\n",
       "    </tr>\n",
       "    <tr>\n",
       "      <th>reviews.userProvince</th>\n",
       "      <td>NaN</td>\n",
       "      <td>NaN</td>\n",
       "      <td>NaN</td>\n",
       "      <td>NaN</td>\n",
       "    </tr>\n",
       "  </tbody>\n",
       "</table>\n",
       "</div>"
      ],
      "text/plain": [
       "                      reviews.numHelpful  reviews.rating  reviews.userCity  \\\n",
       "reviews.numHelpful              1.000000       -0.047385               NaN   \n",
       "reviews.rating                 -0.047385        1.000000               NaN   \n",
       "reviews.userCity                     NaN             NaN               NaN   \n",
       "reviews.userProvince                 NaN             NaN               NaN   \n",
       "\n",
       "                      reviews.userProvince  \n",
       "reviews.numHelpful                     NaN  \n",
       "reviews.rating                         NaN  \n",
       "reviews.userCity                       NaN  \n",
       "reviews.userProvince                   NaN  "
      ]
     },
     "execution_count": 26,
     "metadata": {},
     "output_type": "execute_result"
    }
   ],
   "source": [
    "corr_matrix=reviews.corr()\n",
    "corr_matrix"
   ]
  },
  {
   "cell_type": "code",
   "execution_count": 27,
   "id": "fb7b3ae7",
   "metadata": {
    "execution": {
     "iopub.execute_input": "2022-10-22T08:28:38.329353Z",
     "iopub.status.busy": "2022-10-22T08:28:38.328147Z",
     "iopub.status.idle": "2022-10-22T08:28:38.348701Z",
     "shell.execute_reply": "2022-10-22T08:28:38.347575Z"
    },
    "papermill": {
     "duration": 0.046755,
     "end_time": "2022-10-22T08:28:38.350983",
     "exception": false,
     "start_time": "2022-10-22T08:28:38.304228",
     "status": "completed"
    },
    "tags": []
   },
   "outputs": [
    {
     "data": {
      "text/html": [
       "<div>\n",
       "<style scoped>\n",
       "    .dataframe tbody tr th:only-of-type {\n",
       "        vertical-align: middle;\n",
       "    }\n",
       "\n",
       "    .dataframe tbody tr th {\n",
       "        vertical-align: top;\n",
       "    }\n",
       "\n",
       "    .dataframe thead th {\n",
       "        text-align: right;\n",
       "    }\n",
       "</style>\n",
       "<table border=\"1\" class=\"dataframe\">\n",
       "  <thead>\n",
       "    <tr style=\"text-align: right;\">\n",
       "      <th></th>\n",
       "      <th>reviews.rating</th>\n",
       "    </tr>\n",
       "    <tr>\n",
       "      <th>asins</th>\n",
       "      <th></th>\n",
       "    </tr>\n",
       "  </thead>\n",
       "  <tbody>\n",
       "    <tr>\n",
       "      <th>B005PB2T0S</th>\n",
       "      <td>4.333333</td>\n",
       "    </tr>\n",
       "    <tr>\n",
       "      <th>B005PB2T2Q</th>\n",
       "      <td>3.500000</td>\n",
       "    </tr>\n",
       "    <tr>\n",
       "      <th>B00IOY8XWQ</th>\n",
       "      <td>4.717842</td>\n",
       "    </tr>\n",
       "    <tr>\n",
       "      <th>B00IOYAM4I</th>\n",
       "      <td>4.871795</td>\n",
       "    </tr>\n",
       "    <tr>\n",
       "      <th>B00L9EPT8O,B01E6AO69U</th>\n",
       "      <td>4.668995</td>\n",
       "    </tr>\n",
       "    <tr>\n",
       "      <th>B00LO29KXQ</th>\n",
       "      <td>5.000000</td>\n",
       "    </tr>\n",
       "    <tr>\n",
       "      <th>B00LW9XOJM</th>\n",
       "      <td>4.000000</td>\n",
       "    </tr>\n",
       "    <tr>\n",
       "      <th>B00OQVZDJM</th>\n",
       "      <td>4.765273</td>\n",
       "    </tr>\n",
       "    <tr>\n",
       "      <th>B00QFQRELG</th>\n",
       "      <td>4.147541</td>\n",
       "    </tr>\n",
       "    <tr>\n",
       "      <th>B00QJDU3KY</th>\n",
       "      <td>4.727273</td>\n",
       "    </tr>\n",
       "    <tr>\n",
       "      <th>B00QL1ZN3G</th>\n",
       "      <td>3.166667</td>\n",
       "    </tr>\n",
       "    <tr>\n",
       "      <th>B00REQKWGA</th>\n",
       "      <td>4.600000</td>\n",
       "    </tr>\n",
       "    <tr>\n",
       "      <th>B00TSUGXKE</th>\n",
       "      <td>4.428094</td>\n",
       "    </tr>\n",
       "    <tr>\n",
       "      <th>B00U3FPN4U</th>\n",
       "      <td>4.703367</td>\n",
       "    </tr>\n",
       "    <tr>\n",
       "      <th>B00UH4D8G2</th>\n",
       "      <td>3.428571</td>\n",
       "    </tr>\n",
       "    <tr>\n",
       "      <th>B00VINDBJK</th>\n",
       "      <td>4.618182</td>\n",
       "    </tr>\n",
       "    <tr>\n",
       "      <th>B00X4WHP5E</th>\n",
       "      <td>4.200000</td>\n",
       "    </tr>\n",
       "    <tr>\n",
       "      <th>B00ZV9PXP2</th>\n",
       "      <td>4.585799</td>\n",
       "    </tr>\n",
       "    <tr>\n",
       "      <th>B0189XYY0Q</th>\n",
       "      <td>4.556650</td>\n",
       "    </tr>\n",
       "    <tr>\n",
       "      <th>B018SZT3BK</th>\n",
       "      <td>4.559091</td>\n",
       "    </tr>\n",
       "    <tr>\n",
       "      <th>B018T075DC</th>\n",
       "      <td>5.000000</td>\n",
       "    </tr>\n",
       "    <tr>\n",
       "      <th>B018Y225IA</th>\n",
       "      <td>4.506732</td>\n",
       "    </tr>\n",
       "    <tr>\n",
       "      <th>B018Y229OU</th>\n",
       "      <td>4.456242</td>\n",
       "    </tr>\n",
       "    <tr>\n",
       "      <th>B018Y22BI4</th>\n",
       "      <td>4.666667</td>\n",
       "    </tr>\n",
       "    <tr>\n",
       "      <th>B018Y22C2Y</th>\n",
       "      <td>4.833333</td>\n",
       "    </tr>\n",
       "    <tr>\n",
       "      <th>B018Y23MNM</th>\n",
       "      <td>4.516937</td>\n",
       "    </tr>\n",
       "    <tr>\n",
       "      <th>B018Y23P7K</th>\n",
       "      <td>5.000000</td>\n",
       "    </tr>\n",
       "    <tr>\n",
       "      <th>B01AHB9C1E</th>\n",
       "      <td>4.416667</td>\n",
       "    </tr>\n",
       "    <tr>\n",
       "      <th>B01AHB9CN2</th>\n",
       "      <td>4.590062</td>\n",
       "    </tr>\n",
       "    <tr>\n",
       "      <th>B01AHB9CYG</th>\n",
       "      <td>4.577236</td>\n",
       "    </tr>\n",
       "    <tr>\n",
       "      <th>B01BFIBRIE</th>\n",
       "      <td>4.476190</td>\n",
       "    </tr>\n",
       "    <tr>\n",
       "      <th>B01BH83OOM</th>\n",
       "      <td>4.508704</td>\n",
       "    </tr>\n",
       "    <tr>\n",
       "      <th>B01J2G4VBG</th>\n",
       "      <td>4.409677</td>\n",
       "    </tr>\n",
       "    <tr>\n",
       "      <th>B01J4ORNHU</th>\n",
       "      <td>4.600000</td>\n",
       "    </tr>\n",
       "  </tbody>\n",
       "</table>\n",
       "</div>"
      ],
      "text/plain": [
       "                       reviews.rating\n",
       "asins                                \n",
       "B005PB2T0S                   4.333333\n",
       "B005PB2T2Q                   3.500000\n",
       "B00IOY8XWQ                   4.717842\n",
       "B00IOYAM4I                   4.871795\n",
       "B00L9EPT8O,B01E6AO69U        4.668995\n",
       "B00LO29KXQ                   5.000000\n",
       "B00LW9XOJM                   4.000000\n",
       "B00OQVZDJM                   4.765273\n",
       "B00QFQRELG                   4.147541\n",
       "B00QJDU3KY                   4.727273\n",
       "B00QL1ZN3G                   3.166667\n",
       "B00REQKWGA                   4.600000\n",
       "B00TSUGXKE                   4.428094\n",
       "B00U3FPN4U                   4.703367\n",
       "B00UH4D8G2                   3.428571\n",
       "B00VINDBJK                   4.618182\n",
       "B00X4WHP5E                   4.200000\n",
       "B00ZV9PXP2                   4.585799\n",
       "B0189XYY0Q                   4.556650\n",
       "B018SZT3BK                   4.559091\n",
       "B018T075DC                   5.000000\n",
       "B018Y225IA                   4.506732\n",
       "B018Y229OU                   4.456242\n",
       "B018Y22BI4                   4.666667\n",
       "B018Y22C2Y                   4.833333\n",
       "B018Y23MNM                   4.516937\n",
       "B018Y23P7K                   5.000000\n",
       "B01AHB9C1E                   4.416667\n",
       "B01AHB9CN2                   4.590062\n",
       "B01AHB9CYG                   4.577236\n",
       "B01BFIBRIE                   4.476190\n",
       "B01BH83OOM                   4.508704\n",
       "B01J2G4VBG                   4.409677\n",
       "B01J4ORNHU                   4.600000"
      ]
     },
     "execution_count": 27,
     "metadata": {},
     "output_type": "execute_result"
    }
   ],
   "source": [
    "counts=reviews['asins'].value_counts().to_frame()\n",
    "avg_rating=reviews.groupby(\"asins\")['reviews.rating'].mean().to_frame()\n",
    "avg_rating"
   ]
  },
  {
   "cell_type": "markdown",
   "id": "73327f9d",
   "metadata": {
    "papermill": {
     "duration": 0.022923,
     "end_time": "2022-10-22T08:28:38.396933",
     "exception": false,
     "start_time": "2022-10-22T08:28:38.374010",
     "status": "completed"
    },
    "tags": []
   },
   "source": [
    "Id's and mean of the product belonging to that id"
   ]
  },
  {
   "cell_type": "code",
   "execution_count": 28,
   "id": "ebfdda06",
   "metadata": {
    "execution": {
     "iopub.execute_input": "2022-10-22T08:28:38.444985Z",
     "iopub.status.busy": "2022-10-22T08:28:38.444609Z",
     "iopub.status.idle": "2022-10-22T08:28:38.462406Z",
     "shell.execute_reply": "2022-10-22T08:28:38.461615Z"
    },
    "papermill": {
     "duration": 0.044323,
     "end_time": "2022-10-22T08:28:38.464308",
     "exception": false,
     "start_time": "2022-10-22T08:28:38.419985",
     "status": "completed"
    },
    "tags": []
   },
   "outputs": [
    {
     "data": {
      "text/html": [
       "<div>\n",
       "<style scoped>\n",
       "    .dataframe tbody tr th:only-of-type {\n",
       "        vertical-align: middle;\n",
       "    }\n",
       "\n",
       "    .dataframe tbody tr th {\n",
       "        vertical-align: top;\n",
       "    }\n",
       "\n",
       "    .dataframe thead th {\n",
       "        text-align: right;\n",
       "    }\n",
       "</style>\n",
       "<table border=\"1\" class=\"dataframe\">\n",
       "  <thead>\n",
       "    <tr style=\"text-align: right;\">\n",
       "      <th></th>\n",
       "      <th>reviews.rating</th>\n",
       "      <th>asins</th>\n",
       "    </tr>\n",
       "    <tr>\n",
       "      <th>asins</th>\n",
       "      <th></th>\n",
       "      <th></th>\n",
       "    </tr>\n",
       "  </thead>\n",
       "  <tbody>\n",
       "    <tr>\n",
       "      <th>B005PB2T0S</th>\n",
       "      <td>4.333333</td>\n",
       "      <td>3</td>\n",
       "    </tr>\n",
       "    <tr>\n",
       "      <th>B005PB2T2Q</th>\n",
       "      <td>3.500000</td>\n",
       "      <td>4</td>\n",
       "    </tr>\n",
       "    <tr>\n",
       "      <th>B00IOY8XWQ</th>\n",
       "      <td>4.717842</td>\n",
       "      <td>482</td>\n",
       "    </tr>\n",
       "    <tr>\n",
       "      <th>B00IOYAM4I</th>\n",
       "      <td>4.871795</td>\n",
       "      <td>39</td>\n",
       "    </tr>\n",
       "    <tr>\n",
       "      <th>B00L9EPT8O,B01E6AO69U</th>\n",
       "      <td>4.668995</td>\n",
       "      <td>5296</td>\n",
       "    </tr>\n",
       "    <tr>\n",
       "      <th>B00LO29KXQ</th>\n",
       "      <td>5.000000</td>\n",
       "      <td>2</td>\n",
       "    </tr>\n",
       "    <tr>\n",
       "      <th>B00LW9XOJM</th>\n",
       "      <td>4.000000</td>\n",
       "      <td>8</td>\n",
       "    </tr>\n",
       "    <tr>\n",
       "      <th>B00OQVZDJM</th>\n",
       "      <td>4.765273</td>\n",
       "      <td>2488</td>\n",
       "    </tr>\n",
       "    <tr>\n",
       "      <th>B00QFQRELG</th>\n",
       "      <td>4.147541</td>\n",
       "      <td>61</td>\n",
       "    </tr>\n",
       "    <tr>\n",
       "      <th>B00QJDU3KY</th>\n",
       "      <td>4.727273</td>\n",
       "      <td>11</td>\n",
       "    </tr>\n",
       "    <tr>\n",
       "      <th>B00QL1ZN3G</th>\n",
       "      <td>3.166667</td>\n",
       "      <td>12</td>\n",
       "    </tr>\n",
       "    <tr>\n",
       "      <th>B00REQKWGA</th>\n",
       "      <td>4.600000</td>\n",
       "      <td>5</td>\n",
       "    </tr>\n",
       "    <tr>\n",
       "      <th>B00TSUGXKE</th>\n",
       "      <td>4.428094</td>\n",
       "      <td>299</td>\n",
       "    </tr>\n",
       "    <tr>\n",
       "      <th>B00U3FPN4U</th>\n",
       "      <td>4.703367</td>\n",
       "      <td>4069</td>\n",
       "    </tr>\n",
       "    <tr>\n",
       "      <th>B00UH4D8G2</th>\n",
       "      <td>3.428571</td>\n",
       "      <td>7</td>\n",
       "    </tr>\n",
       "    <tr>\n",
       "      <th>B00VINDBJK</th>\n",
       "      <td>4.618182</td>\n",
       "      <td>55</td>\n",
       "    </tr>\n",
       "    <tr>\n",
       "      <th>B00X4WHP5E</th>\n",
       "      <td>4.200000</td>\n",
       "      <td>5</td>\n",
       "    </tr>\n",
       "    <tr>\n",
       "      <th>B00ZV9PXP2</th>\n",
       "      <td>4.585799</td>\n",
       "      <td>169</td>\n",
       "    </tr>\n",
       "    <tr>\n",
       "      <th>B0189XYY0Q</th>\n",
       "      <td>4.556650</td>\n",
       "      <td>203</td>\n",
       "    </tr>\n",
       "    <tr>\n",
       "      <th>B018SZT3BK</th>\n",
       "      <td>4.559091</td>\n",
       "      <td>220</td>\n",
       "    </tr>\n",
       "    <tr>\n",
       "      <th>B018T075DC</th>\n",
       "      <td>5.000000</td>\n",
       "      <td>6</td>\n",
       "    </tr>\n",
       "    <tr>\n",
       "      <th>B018Y225IA</th>\n",
       "      <td>4.506732</td>\n",
       "      <td>817</td>\n",
       "    </tr>\n",
       "    <tr>\n",
       "      <th>B018Y229OU</th>\n",
       "      <td>4.456242</td>\n",
       "      <td>8787</td>\n",
       "    </tr>\n",
       "    <tr>\n",
       "      <th>B018Y22BI4</th>\n",
       "      <td>4.666667</td>\n",
       "      <td>9</td>\n",
       "    </tr>\n",
       "    <tr>\n",
       "      <th>B018Y22C2Y</th>\n",
       "      <td>4.833333</td>\n",
       "      <td>6</td>\n",
       "    </tr>\n",
       "    <tr>\n",
       "      <th>B018Y23MNM</th>\n",
       "      <td>4.516937</td>\n",
       "      <td>1358</td>\n",
       "    </tr>\n",
       "    <tr>\n",
       "      <th>B018Y23P7K</th>\n",
       "      <td>5.000000</td>\n",
       "      <td>1</td>\n",
       "    </tr>\n",
       "    <tr>\n",
       "      <th>B01AHB9C1E</th>\n",
       "      <td>4.416667</td>\n",
       "      <td>12</td>\n",
       "    </tr>\n",
       "    <tr>\n",
       "      <th>B01AHB9CN2</th>\n",
       "      <td>4.590062</td>\n",
       "      <td>2254</td>\n",
       "    </tr>\n",
       "    <tr>\n",
       "      <th>B01AHB9CYG</th>\n",
       "      <td>4.577236</td>\n",
       "      <td>123</td>\n",
       "    </tr>\n",
       "    <tr>\n",
       "      <th>B01BFIBRIE</th>\n",
       "      <td>4.476190</td>\n",
       "      <td>21</td>\n",
       "    </tr>\n",
       "    <tr>\n",
       "      <th>B01BH83OOM</th>\n",
       "      <td>4.508704</td>\n",
       "      <td>517</td>\n",
       "    </tr>\n",
       "    <tr>\n",
       "      <th>B01J2G4VBG</th>\n",
       "      <td>4.409677</td>\n",
       "      <td>310</td>\n",
       "    </tr>\n",
       "    <tr>\n",
       "      <th>B01J4ORNHU</th>\n",
       "      <td>4.600000</td>\n",
       "      <td>15</td>\n",
       "    </tr>\n",
       "  </tbody>\n",
       "</table>\n",
       "</div>"
      ],
      "text/plain": [
       "                       reviews.rating  asins\n",
       "asins                                       \n",
       "B005PB2T0S                   4.333333      3\n",
       "B005PB2T2Q                   3.500000      4\n",
       "B00IOY8XWQ                   4.717842    482\n",
       "B00IOYAM4I                   4.871795     39\n",
       "B00L9EPT8O,B01E6AO69U        4.668995   5296\n",
       "B00LO29KXQ                   5.000000      2\n",
       "B00LW9XOJM                   4.000000      8\n",
       "B00OQVZDJM                   4.765273   2488\n",
       "B00QFQRELG                   4.147541     61\n",
       "B00QJDU3KY                   4.727273     11\n",
       "B00QL1ZN3G                   3.166667     12\n",
       "B00REQKWGA                   4.600000      5\n",
       "B00TSUGXKE                   4.428094    299\n",
       "B00U3FPN4U                   4.703367   4069\n",
       "B00UH4D8G2                   3.428571      7\n",
       "B00VINDBJK                   4.618182     55\n",
       "B00X4WHP5E                   4.200000      5\n",
       "B00ZV9PXP2                   4.585799    169\n",
       "B0189XYY0Q                   4.556650    203\n",
       "B018SZT3BK                   4.559091    220\n",
       "B018T075DC                   5.000000      6\n",
       "B018Y225IA                   4.506732    817\n",
       "B018Y229OU                   4.456242   8787\n",
       "B018Y22BI4                   4.666667      9\n",
       "B018Y22C2Y                   4.833333      6\n",
       "B018Y23MNM                   4.516937   1358\n",
       "B018Y23P7K                   5.000000      1\n",
       "B01AHB9C1E                   4.416667     12\n",
       "B01AHB9CN2                   4.590062   2254\n",
       "B01AHB9CYG                   4.577236    123\n",
       "B01BFIBRIE                   4.476190     21\n",
       "B01BH83OOM                   4.508704    517\n",
       "B01J2G4VBG                   4.409677    310\n",
       "B01J4ORNHU                   4.600000     15"
      ]
     },
     "execution_count": 28,
     "metadata": {},
     "output_type": "execute_result"
    }
   ],
   "source": [
    "table=avg_rating.join(counts)\n",
    "table"
   ]
  },
  {
   "cell_type": "code",
   "execution_count": 29,
   "id": "440155f4",
   "metadata": {
    "execution": {
     "iopub.execute_input": "2022-10-22T08:28:38.512962Z",
     "iopub.status.busy": "2022-10-22T08:28:38.512559Z",
     "iopub.status.idle": "2022-10-22T08:28:38.738679Z",
     "shell.execute_reply": "2022-10-22T08:28:38.737472Z"
    },
    "papermill": {
     "duration": 0.253409,
     "end_time": "2022-10-22T08:28:38.741164",
     "exception": false,
     "start_time": "2022-10-22T08:28:38.487755",
     "status": "completed"
    },
    "tags": []
   },
   "outputs": [
    {
     "data": {
      "text/html": [
       "<div>\n",
       "<style scoped>\n",
       "    .dataframe tbody tr th:only-of-type {\n",
       "        vertical-align: middle;\n",
       "    }\n",
       "\n",
       "    .dataframe tbody tr th {\n",
       "        vertical-align: top;\n",
       "    }\n",
       "\n",
       "    .dataframe thead th {\n",
       "        text-align: right;\n",
       "    }\n",
       "</style>\n",
       "<table border=\"1\" class=\"dataframe\">\n",
       "  <thead>\n",
       "    <tr style=\"text-align: right;\">\n",
       "      <th></th>\n",
       "      <th>reviews.rating</th>\n",
       "      <th>asins</th>\n",
       "    </tr>\n",
       "  </thead>\n",
       "  <tbody>\n",
       "    <tr>\n",
       "      <th>reviews.rating</th>\n",
       "      <td>1.000000</td>\n",
       "      <td>0.117934</td>\n",
       "    </tr>\n",
       "    <tr>\n",
       "      <th>asins</th>\n",
       "      <td>0.117934</td>\n",
       "      <td>1.000000</td>\n",
       "    </tr>\n",
       "  </tbody>\n",
       "</table>\n",
       "</div>"
      ],
      "text/plain": [
       "                reviews.rating     asins\n",
       "reviews.rating        1.000000  0.117934\n",
       "asins                 0.117934  1.000000"
      ]
     },
     "execution_count": 29,
     "metadata": {},
     "output_type": "execute_result"
    },
    {
     "data": {
      "image/png": "[encoded data removed]",
      "text/plain": [
       "<Figure size 432x288 with 1 Axes>"
      ]
     },
     "metadata": {},
     "output_type": "display_data"
    }
   ],
   "source": [
    "plt.scatter(\"asins\",\"reviews.rating\",data=table)\n",
    "table.corr()"
   ]
  },
  {
   "cell_type": "markdown",
   "id": "4e31c3f8",
   "metadata": {
    "papermill": {
     "duration": 0.023742,
     "end_time": "2022-10-22T08:28:38.789116",
     "exception": false,
     "start_time": "2022-10-22T08:28:38.765374",
     "status": "completed"
    },
    "tags": []
   },
   "source": [
    "# Sentiment Analysis"
   ]
  },
  {
   "cell_type": "code",
   "execution_count": 30,
   "id": "bde002fc",
   "metadata": {
    "execution": {
     "iopub.execute_input": "2022-10-22T08:28:38.839517Z",
     "iopub.status.busy": "2022-10-22T08:28:38.838476Z",
     "iopub.status.idle": "2022-10-22T08:28:38.844815Z",
     "shell.execute_reply": "2022-10-22T08:28:38.843663Z"
    },
    "papermill": {
     "duration": 0.03396,
     "end_time": "2022-10-22T08:28:38.847086",
     "exception": false,
     "start_time": "2022-10-22T08:28:38.813126",
     "status": "completed"
    },
    "tags": []
   },
   "outputs": [],
   "source": [
    "def sentiments(rating):\n",
    "    if(rating==5)or(rating==4):\n",
    "        return \"Positive\"\n",
    "    elif rating==3:\n",
    "        return \"Neutral\"\n",
    "    elif(rating==2)or(rating==1):\n",
    "        return \"Negative\"\n"
   ]
  },
  {
   "cell_type": "code",
   "execution_count": 31,
   "id": "b253cff2",
   "metadata": {
    "execution": {
     "iopub.execute_input": "2022-10-22T08:28:38.899038Z",
     "iopub.status.busy": "2022-10-22T08:28:38.898658Z",
     "iopub.status.idle": "2022-10-22T08:28:38.917532Z",
     "shell.execute_reply": "2022-10-22T08:28:38.916710Z"
    },
    "papermill": {
     "duration": 0.045957,
     "end_time": "2022-10-22T08:28:38.919623",
     "exception": false,
     "start_time": "2022-10-22T08:28:38.873666",
     "status": "completed"
    },
    "tags": []
   },
   "outputs": [
    {
     "data": {
      "text/plain": [
       "23441    Positive\n",
       "34401    Negative\n",
       "33770    Positive\n",
       "24642    Positive\n",
       "27587    Positive\n",
       "28099    Positive\n",
       "7382     Positive\n",
       "20319    Positive\n",
       "10885    Positive\n",
       "22015    Positive\n",
       "21109     Neutral\n",
       "22008    Positive\n",
       "16286    Positive\n",
       "24387    Positive\n",
       "25739    Positive\n",
       "3518     Positive\n",
       "12884    Positive\n",
       "18637     Neutral\n",
       "10431    Positive\n",
       "34480    Positive\n",
       "Name: Sentiments, dtype: object"
      ]
     },
     "execution_count": 31,
     "metadata": {},
     "output_type": "execute_result"
    }
   ],
   "source": [
    "# now adding this sentiments function to training and testing dataset\n",
    "strat_train['Sentiments']=strat_train['reviews.rating'].apply(sentiments)\n",
    "strat_test['Sentiments']=strat_test['reviews.rating'].apply(sentiments)\n",
    "# strat_train.head()\n",
    "strat_train[\"Sentiments\"][:20]"
   ]
  },
  {
   "cell_type": "markdown",
   "id": "66a572d4",
   "metadata": {
    "papermill": {
     "duration": 0.023818,
     "end_time": "2022-10-22T08:28:38.967405",
     "exception": false,
     "start_time": "2022-10-22T08:28:38.943587",
     "status": "completed"
    },
    "tags": []
   },
   "source": [
    "# Preparing text data "
   ]
  },
  {
   "cell_type": "code",
   "execution_count": 32,
   "id": "3ac5253a",
   "metadata": {
    "execution": {
     "iopub.execute_input": "2022-10-22T08:28:39.017457Z",
     "iopub.status.busy": "2022-10-22T08:28:39.016788Z",
     "iopub.status.idle": "2022-10-22T08:28:39.023770Z",
     "shell.execute_reply": "2022-10-22T08:28:39.022212Z"
    },
    "papermill": {
     "duration": 0.034923,
     "end_time": "2022-10-22T08:28:39.026281",
     "exception": false,
     "start_time": "2022-10-22T08:28:38.991358",
     "status": "completed"
    },
    "tags": []
   },
   "outputs": [
    {
     "name": "stdout",
     "output_type": "stream",
     "text": [
      "27701 6926\n"
     ]
    }
   ],
   "source": [
    "x_train=strat_train['reviews.text']\n",
    "x_train_targetsentiment=strat_train['Sentiments']\n",
    "x_test=strat_test['reviews.text']\n",
    "x_test_targetsentiment=strat_test['Sentiments']\n",
    "print(len(x_train),len(x_test))"
   ]
  },
  {
   "cell_type": "markdown",
   "id": "8ac190e0",
   "metadata": {
    "papermill": {
     "duration": 0.024067,
     "end_time": "2022-10-22T08:28:39.075195",
     "exception": false,
     "start_time": "2022-10-22T08:28:39.051128",
     "status": "completed"
    },
    "tags": []
   },
   "source": [
    "# Extracting features"
   ]
  },
  {
   "cell_type": "code",
   "execution_count": 33,
   "id": "77a390f1",
   "metadata": {
    "execution": {
     "iopub.execute_input": "2022-10-22T08:28:39.125965Z",
     "iopub.status.busy": "2022-10-22T08:28:39.125363Z",
     "iopub.status.idle": "2022-10-22T08:28:39.140367Z",
     "shell.execute_reply": "2022-10-22T08:28:39.138821Z"
    },
    "papermill": {
     "duration": 0.043941,
     "end_time": "2022-10-22T08:28:39.143431",
     "exception": false,
     "start_time": "2022-10-22T08:28:39.099490",
     "status": "completed"
    },
    "tags": []
   },
   "outputs": [],
   "source": [
    "# tokenisation: which breaks sentences into words\n",
    "# stopwords: filtering unwanted words like the ,are etc.\n",
    "# filling na with space \n",
    "x_train=x_train.fillna(' ')\n",
    "x_test=x_test.fillna(' ')\n",
    "x_train_targetsentiment=x_train_targetsentiment.fillna(' ')\n",
    "x_test_targetsentiment=x_test_targetsentiment.fillna(' ')"
   ]
  },
  {
   "cell_type": "code",
   "execution_count": 34,
   "id": "a90a9728",
   "metadata": {
    "execution": {
     "iopub.execute_input": "2022-10-22T08:28:39.193931Z",
     "iopub.status.busy": "2022-10-22T08:28:39.193504Z",
     "iopub.status.idle": "2022-10-22T08:28:39.937448Z",
     "shell.execute_reply": "2022-10-22T08:28:39.936196Z"
    },
    "papermill": {
     "duration": 0.772113,
     "end_time": "2022-10-22T08:28:39.939988",
     "exception": false,
     "start_time": "2022-10-22T08:28:39.167875",
     "status": "completed"
    },
    "tags": []
   },
   "outputs": [
    {
     "data": {
      "text/plain": [
       "(27701, 12554)"
      ]
     },
     "execution_count": 34,
     "metadata": {},
     "output_type": "execute_result"
    }
   ],
   "source": [
    "# Text preprocessing and occurence counting using count vectorizer\n",
    "from sklearn.feature_extraction.text import CountVectorizer\n",
    "count_vect=CountVectorizer()\n",
    "x_train_counts=count_vect.fit_transform(x_train)\n",
    "x_train_counts.shape"
   ]
  },
  {
   "cell_type": "markdown",
   "id": "b737dc4d",
   "metadata": {
    "papermill": {
     "duration": 0.024277,
     "end_time": "2022-10-22T08:28:39.989041",
     "exception": false,
     "start_time": "2022-10-22T08:28:39.964764",
     "status": "completed"
    },
    "tags": []
   },
   "source": [
    "here we have 27k samples and 12k distinct words"
   ]
  },
  {
   "cell_type": "code",
   "execution_count": 35,
   "id": "e84fad3e",
   "metadata": {
    "execution": {
     "iopub.execute_input": "2022-10-22T08:28:40.039490Z",
     "iopub.status.busy": "2022-10-22T08:28:40.039070Z",
     "iopub.status.idle": "2022-10-22T08:28:40.079797Z",
     "shell.execute_reply": "2022-10-22T08:28:40.078893Z"
    },
    "papermill": {
     "duration": 0.068859,
     "end_time": "2022-10-22T08:28:40.082204",
     "exception": false,
     "start_time": "2022-10-22T08:28:40.013345",
     "status": "completed"
    },
    "tags": []
   },
   "outputs": [
    {
     "data": {
      "text/plain": [
       "(27701, 12554)"
      ]
     },
     "execution_count": 35,
     "metadata": {},
     "output_type": "execute_result"
    }
   ],
   "source": [
    "from sklearn.feature_extraction.text import TfidfTransformer\n",
    "tfid_transformer=TfidfTransformer(use_idf=False)\n",
    "x_train_tfid=tfid_transformer.fit_transform(x_train_counts)\n",
    "x_train_tfid.shape"
   ]
  },
  {
   "cell_type": "markdown",
   "id": "0c8116a1",
   "metadata": {
    "papermill": {
     "duration": 0.023987,
     "end_time": "2022-10-22T08:28:40.131053",
     "exception": false,
     "start_time": "2022-10-22T08:28:40.107066",
     "status": "completed"
    },
    "tags": []
   },
   "source": [
    "so tfidf transformer reduces less meaning words which have higher occurence . So it divides the number of occurences for each word by total number of words. Downscales stop words like \"the\" \"are\" etc."
   ]
  },
  {
   "cell_type": "code",
   "execution_count": 36,
   "id": "c32ce7f4",
   "metadata": {
    "execution": {
     "iopub.execute_input": "2022-10-22T08:28:40.181929Z",
     "iopub.status.busy": "2022-10-22T08:28:40.181515Z",
     "iopub.status.idle": "2022-10-22T08:28:41.070985Z",
     "shell.execute_reply": "2022-10-22T08:28:41.069710Z"
    },
    "papermill": {
     "duration": 0.918507,
     "end_time": "2022-10-22T08:28:41.073863",
     "exception": false,
     "start_time": "2022-10-22T08:28:40.155356",
     "status": "completed"
    },
    "tags": []
   },
   "outputs": [
    {
     "data": {
      "text/plain": [
       "Pipeline(steps=[('vect', CountVectorizer()), ('tfidf', TfidfTransformer()),\n",
       "                ('clf_nominalNB', MultinomialNB())])"
      ]
     },
     "execution_count": 36,
     "metadata": {},
     "output_type": "execute_result"
    }
   ],
   "source": [
    "from sklearn.naive_bayes import MultinomialNB\n",
    "from sklearn.pipeline import Pipeline\n",
    "clf_multiNB_pipe=Pipeline([('vect',CountVectorizer()),\n",
    "                               (\"tfidf\",TfidfTransformer()),\n",
    "                               (\"clf_nominalNB\",MultinomialNB())])\n",
    "clf_multiNB_pipe.fit(x_train,x_train_targetsentiment)"
   ]
  },
  {
   "cell_type": "markdown",
   "id": "94cbeec4",
   "metadata": {
    "papermill": {
     "duration": 0.026295,
     "end_time": "2022-10-22T08:28:41.126770",
     "exception": false,
     "start_time": "2022-10-22T08:28:41.100475",
     "status": "completed"
    },
    "tags": []
   },
   "source": [
    "**we use pipeline from sklearn when we want a number of tasks to be implemented on every datapoint. It can also be used when we want to implement multiple models on dataset in sequential manner**"
   ]
  },
  {
   "cell_type": "code",
   "execution_count": 37,
   "id": "1856ba07",
   "metadata": {
    "execution": {
     "iopub.execute_input": "2022-10-22T08:28:41.182413Z",
     "iopub.status.busy": "2022-10-22T08:28:41.180918Z",
     "iopub.status.idle": "2022-10-22T08:28:41.379576Z",
     "shell.execute_reply": "2022-10-22T08:28:41.378244Z"
    },
    "papermill": {
     "duration": 0.22951,
     "end_time": "2022-10-22T08:28:41.382431",
     "exception": false,
     "start_time": "2022-10-22T08:28:41.152921",
     "status": "completed"
    },
    "tags": []
   },
   "outputs": [
    {
     "data": {
      "text/plain": [
       "array(['Positive', 'Positive', 'Positive', ..., 'Positive', 'Positive',\n",
       "       'Positive'], dtype='<U8')"
      ]
     },
     "execution_count": 37,
     "metadata": {},
     "output_type": "execute_result"
    }
   ],
   "source": [
    "predict_multiNB=clf_multiNB_pipe.predict(x_test)\n",
    "predict_multiNB"
   ]
  },
  {
   "cell_type": "code",
   "execution_count": 38,
   "id": "746553ce",
   "metadata": {
    "execution": {
     "iopub.execute_input": "2022-10-22T08:28:41.438353Z",
     "iopub.status.busy": "2022-10-22T08:28:41.437573Z",
     "iopub.status.idle": "2022-10-22T08:28:41.449712Z",
     "shell.execute_reply": "2022-10-22T08:28:41.448143Z"
    },
    "papermill": {
     "duration": 0.042984,
     "end_time": "2022-10-22T08:28:41.452716",
     "exception": false,
     "start_time": "2022-10-22T08:28:41.409732",
     "status": "completed"
    },
    "tags": []
   },
   "outputs": [
    {
     "name": "stdout",
     "output_type": "stream",
     "text": [
      "Accuracy: 0.9344498989315623\n"
     ]
    }
   ],
   "source": [
    "from sklearn.metrics import accuracy_score\n",
    "print(\"Accuracy: {}\".format(accuracy_score(x_test_targetsentiment,predict_multiNB)))"
   ]
  },
  {
   "cell_type": "markdown",
   "id": "5627df98",
   "metadata": {
    "papermill": {
     "duration": 0.025394,
     "end_time": "2022-10-22T08:28:41.503961",
     "exception": false,
     "start_time": "2022-10-22T08:28:41.478567",
     "status": "completed"
    },
    "tags": []
   },
   "source": [
    "We have attained accuracy of 94% on our testing data . "
   ]
  },
  {
   "cell_type": "code",
   "execution_count": 39,
   "id": "0194fdfc",
   "metadata": {
    "execution": {
     "iopub.execute_input": "2022-10-22T08:28:41.560213Z",
     "iopub.status.busy": "2022-10-22T08:28:41.559333Z",
     "iopub.status.idle": "2022-10-22T08:28:41.569728Z",
     "shell.execute_reply": "2022-10-22T08:28:41.568484Z"
    },
    "papermill": {
     "duration": 0.040752,
     "end_time": "2022-10-22T08:28:41.572127",
     "exception": false,
     "start_time": "2022-10-22T08:28:41.531375",
     "status": "completed"
    },
    "tags": []
   },
   "outputs": [
    {
     "data": {
      "text/plain": [
       "22992    not as smart as the commercials show. cant ans...\n",
       "3122                 Takes too many time, even being Prime\n",
       "23472    This item is very impressive and informative. ...\n",
       "23447    It does work well, the only issue is it just n...\n",
       "27158    I purchased this for my wife for Christmas and...\n",
       "                               ...                        \n",
       "20448    The back light is better for your eyes then re...\n",
       "14825    Great on the go companion for avid reader. Eas...\n",
       "2397     This was bought primarily for photos. I added ...\n",
       "28689    I read the camera specs which is what caught m...\n",
       "14965    Good for pleasure not for work. But good value...\n",
       "Name: reviews.text, Length: 6926, dtype: object"
      ]
     },
     "execution_count": 39,
     "metadata": {},
     "output_type": "execute_result"
    }
   ],
   "source": [
    "x_test"
   ]
  },
  {
   "cell_type": "markdown",
   "id": "d178ec37",
   "metadata": {
    "papermill": {
     "duration": 0.02606,
     "end_time": "2022-10-22T08:28:41.624810",
     "exception": false,
     "start_time": "2022-10-22T08:28:41.598750",
     "status": "completed"
    },
    "tags": []
   },
   "source": [
    "# Applying model on input text"
   ]
  },
  {
   "cell_type": "code",
   "execution_count": 40,
   "id": "d24b8580",
   "metadata": {
    "execution": {
     "iopub.execute_input": "2022-10-22T08:28:41.680499Z",
     "iopub.status.busy": "2022-10-22T08:28:41.679169Z",
     "iopub.status.idle": "2022-10-22T08:28:43.351151Z",
     "shell.execute_reply": "2022-10-22T08:28:43.349667Z"
    },
    "papermill": {
     "duration": 1.703554,
     "end_time": "2022-10-22T08:28:43.354954",
     "exception": false,
     "start_time": "2022-10-22T08:28:41.651400",
     "status": "completed"
    },
    "tags": []
   },
   "outputs": [
    {
     "name": "stdout",
     "output_type": "stream",
     "text": [
      "Accuracy: 0.9383482529598614\n"
     ]
    }
   ],
   "source": [
    "from sklearn.svm import LinearSVC\n",
    "clf_linearSVC_pipe = Pipeline([(\"vect\", CountVectorizer()), \n",
    "                               (\"tfidf\", TfidfTransformer()),\n",
    "                               (\"clf_linearSVC\", LinearSVC())])\n",
    "clf_linearSVC_pipe.fit(x_train, x_train_targetsentiment)\n",
    "\n",
    "predictedLinearSVC = clf_linearSVC_pipe.predict(x_test)\n",
    "print('Accuracy: {}'. format(accuracy_score(x_test_targetsentiment, \n",
    "                             predictedLinearSVC)))"
   ]
  },
  {
   "cell_type": "code",
   "execution_count": 41,
   "id": "8f854936",
   "metadata": {
    "execution": {
     "iopub.execute_input": "2022-10-22T08:28:43.408634Z",
     "iopub.status.busy": "2022-10-22T08:28:43.407777Z",
     "iopub.status.idle": "2022-10-22T08:28:43.417559Z",
     "shell.execute_reply": "2022-10-22T08:28:43.416316Z"
    },
    "papermill": {
     "duration": 0.039764,
     "end_time": "2022-10-22T08:28:43.420141",
     "exception": false,
     "start_time": "2022-10-22T08:28:43.380377",
     "status": "completed"
    },
    "tags": []
   },
   "outputs": [
    {
     "data": {
      "text/plain": [
       "array(['Positive', 'Neutral', 'Negative'], dtype=object)"
      ]
     },
     "execution_count": 41,
     "metadata": {},
     "output_type": "execute_result"
    }
   ],
   "source": [
    "new_text=[\"the tablet is good , really liked it\",\n",
    "         \"the tablet is ok,it's working\",\n",
    "         \"The tablet is not good, does not work waste\"]\n",
    "clf_linearSVC_pipe.predict(new_text)"
   ]
  },
  {
   "cell_type": "markdown",
   "id": "d5355e15",
   "metadata": {
    "papermill": {
     "duration": 0.024958,
     "end_time": "2022-10-22T08:28:43.470754",
     "exception": false,
     "start_time": "2022-10-22T08:28:43.445796",
     "status": "completed"
    },
    "tags": []
   },
   "source": [
    "So Here we conclude our Notebook on NLP using Naive Bayes and SVC and did EDA on dataset. Hope you like it. ****Please share your feedback on the notebook if any improvements can be done.. Also please do upvote if you like it ****"
   ]
  },
  {
   "cell_type": "markdown",
   "id": "59874e1b",
   "metadata": {
    "papermill": {
     "duration": 0.025248,
     "end_time": "2022-10-22T08:28:43.521091",
     "exception": false,
     "start_time": "2022-10-22T08:28:43.495843",
     "status": "completed"
    },
    "tags": []
   },
   "source": [
    "# THANK YOU!!!"
   ]
  }
 ],
 "metadata": {
  "kernelspec": {
   "display_name": "Python 3",
   "language": "python",
   "name": "python3"
  },
  "language_info": {
   "codemirror_mode": {
    "name": "ipython",
    "version": 3
   },
   "file_extension": ".py",
   "mimetype": "text/x-python",
   "name": "python",
   "nbconvert_exporter": "python",
   "pygments_lexer": "ipython3",
   "version": "3.7.12"
  },
  "papermill": {
   "default_parameters": {},
   "duration": 28.279279,
   "end_time": "2022-10-22T08:28:44.369092",
   "environment_variables": {},
   "exception": null,
   "input_path": "__notebook__.ipynb",
   "output_path": "__notebook__.ipynb",
   "parameters": {},
   "start_time": "2022-10-22T08:28:16.089813",
   "version": "2.3.4"
  }
 },
 "nbformat": 4,
 "nbformat_minor": 5
}
